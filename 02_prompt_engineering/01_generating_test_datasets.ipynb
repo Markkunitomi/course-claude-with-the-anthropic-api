{
 "cells": [
  {
   "cell_type": "code",
   "execution_count": 7,
   "id": "050ac406-b2a9-4baa-8aad-c59addd4d7eb",
   "metadata": {},
   "outputs": [],
   "source": [
    "from dotenv import load_dotenv\n",
    "from anthropic import Anthropic\n",
    "import json\n",
    "\n",
    "load_dotenv()\n",
    "client = Anthropic()\n",
    "model = \"claude-3-haiku-20240307\""
   ]
  },
  {
   "cell_type": "code",
   "execution_count": 2,
   "id": "4dadeaff-ffde-48ec-a9e7-3ee519dd3d93",
   "metadata": {},
   "outputs": [],
   "source": [
    "def add_user_message(messages, text):\n",
    "    messages.append({\"role\": \"user\", \"content\": text})\n",
    "    return messages\n",
    "\n",
    "def add_assistent_messages(messages, text):\n",
    "    messages.append({\"role\": \"assistant\", \"content\": text})\n",
    "    return messages\n",
    "\n",
    "def chat(messages, system=None, temperature=1.0, stop_sequences=[]):\n",
    "    params = {\n",
    "            \"model\": model,\n",
    "            \"max_tokens\": 1000,\n",
    "            \"messages\": messages,\n",
    "            \"temperature\":temperature,\n",
    "            \"stop_sequences\":stop_sequences,\n",
    "    }\n",
    "    if system:\n",
    "        params[\"system\"] = system\n",
    "\n",
    "    message = client.messages.create(\n",
    "        **params\n",
    "    )\n",
    "    return message.content[0].text\n"
   ]
  },
  {
   "cell_type": "code",
   "execution_count": 8,
   "id": "f6f03668-befc-4945-9e16-36307a22f85b",
   "metadata": {},
   "outputs": [],
   "source": [
    "def generate_dataset():\n",
    "    prompt = \"\"\"\n",
    "Generate an evaluation dataset for a prompt evaluation. The dataset will be used to evaluate prompts that generate Python, JSON, or Regex specifically for AWS-related tasks. Generate an array of JSON objects, each representing task that requires Python, JSON, or a Regex to complete.\n",
    "\n",
    "Example output:\n",
    "```json\n",
    "[\n",
    "  {\n",
    "    \"task\": \"Description of task\",\n",
    "  },\n",
    "  ...additional\n",
    "]\n",
    "```\n",
    "\n",
    "* Focus on tasks that can be solved by writing a single Python function, a single JSON object, or a single regex\n",
    "* Focus on tasks that do not require writing much code\n",
    "\n",
    "Please generate 3 objects.\n",
    "\"\"\"\n",
    "    messages = []\n",
    "\n",
    "    add_user_message(messages, prompt)\n",
    "    add_assistent_messages(messages, \"```json\")\n",
    "    answer = chat(messages, stop_sequences=[\"```\"])\n",
    "    return json.loads(answer)"
   ]
  },
  {
   "cell_type": "code",
   "execution_count": 11,
   "id": "536f8ee4-c7ac-4a2d-84f3-086d980845a6",
   "metadata": {},
   "outputs": [
    {
     "data": {
      "text/plain": [
       "[{'task': 'Write a Python function to create an AWS S3 bucket with a given name.'},\n",
       " {'task': 'Create a JSON object to configure an AWS Lambda function with a specified runtime, memory size, and timeout.'},\n",
       " {'task': \"Write a regular expression to validate an AWS EC2 instance ID in the format 'i-0123456789abcdef'.\"}]"
      ]
     },
     "execution_count": 11,
     "metadata": {},
     "output_type": "execute_result"
    }
   ],
   "source": [
    "test_dataset = generate_dataset()\n",
    "test_dataset"
   ]
  },
  {
   "cell_type": "code",
   "execution_count": 13,
   "id": "ecd616fe-23a4-49b1-8dc3-064ceec9ead7",
   "metadata": {},
   "outputs": [],
   "source": [
    "with open(\"data/dataset.json\", \"w\") as f:\n",
    "    json.dump(test_dataset, f, indent=2)"
   ]
  },
  {
   "cell_type": "code",
   "execution_count": null,
   "id": "de93f6ed-41e4-41d6-8741-2da203e9cb49",
   "metadata": {},
   "outputs": [],
   "source": []
  }
 ],
 "metadata": {
  "kernelspec": {
   "display_name": "Python 3 (ipykernel)",
   "language": "python",
   "name": "python3"
  },
  "language_info": {
   "codemirror_mode": {
    "name": "ipython",
    "version": 3
   },
   "file_extension": ".py",
   "mimetype": "text/x-python",
   "name": "python",
   "nbconvert_exporter": "python",
   "pygments_lexer": "ipython3",
   "version": "3.12.2"
  }
 },
 "nbformat": 4,
 "nbformat_minor": 5
}
