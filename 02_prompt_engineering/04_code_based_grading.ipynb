{
 "cells": [
  {
   "cell_type": "code",
   "execution_count": 1,
   "id": "bce16fc9-80f1-409a-8da1-76cc8f71d32e",
   "metadata": {},
   "outputs": [],
   "source": [
    "from anthropic import Anthropic\n",
    "import ast\n",
    "from dotenv import load_dotenv\n",
    "import json\n",
    "import re\n",
    "from statistics import mean\n",
    "\n",
    "\n",
    "load_dotenv()\n",
    "client = Anthropic()\n",
    "model = \"claude-sonnet-4-0\""
   ]
  },
  {
   "cell_type": "code",
   "execution_count": 2,
   "id": "86ba7840-e125-4111-b538-4d68b8c96b8f",
   "metadata": {},
   "outputs": [],
   "source": [
    "def add_user_message(messages, text):\n",
    "    messages.append({\"role\": \"user\", \"content\": text})\n",
    "    return messages\n",
    "\n",
    "def add_assistant_message(messages, text):\n",
    "    messages.append({\"role\": \"assistant\", \"content\": text})\n",
    "    return messages\n",
    "\n",
    "def chat(messages, system=None, temperature=1.0, stop_sequences=[]):\n",
    "    params = {\n",
    "            \"model\": model,\n",
    "            \"max_tokens\": 1000,\n",
    "            \"messages\": messages,\n",
    "            \"temperature\":temperature,\n",
    "            \"stop_sequences\":stop_sequences,\n",
    "    }\n",
    "    if system:\n",
    "        params[\"system\"] = system\n",
    "\n",
    "    message = client.messages.create(\n",
    "        **params\n",
    "    )\n",
    "    return message.content[0].text\n"
   ]
  },
  {
   "cell_type": "code",
   "execution_count": 3,
   "id": "33f7f7f4-771b-46f6-a04f-b86936927572",
   "metadata": {},
   "outputs": [],
   "source": [
    "def generate_dataset():\n",
    "    prompt = \"\"\"\n",
    "Generate a evaluation dataset for a prompt evaluation. The dataset will be used to evaluate prompts\n",
    "that generate Python, JSON, or Regex specifically for AWS-related tasks. Generate an array of JSON objects,\n",
    "each representing task that requires Python, JSON, or a Regex to complete.\n",
    "\n",
    "Example output:\n",
    "```json\n",
    "[\n",
    "    {\n",
    "        \"task\": \"Description of task\",\n",
    "        \"format\": \"json\" or \"python\" or \"regex\"\n",
    "    },\n",
    "    ...additional\n",
    "]\n",
    "```\n",
    "\n",
    "* Focus on tasks that can be solved by writing a single Python function, a single JSON object, or a regular expression.\n",
    "* Focus on tasks that do not require writing much code\n",
    "\n",
    "Please generate 3 objects.\n",
    "\"\"\"\n",
    "\n",
    "    messages = []\n",
    "    add_user_message(messages, prompt)\n",
    "    add_assistant_message(messages, \"```json\")\n",
    "    text = chat(messages, stop_sequences=[\"```\"])\n",
    "    return json.loads(text)"
   ]
  },
  {
   "cell_type": "code",
   "execution_count": 4,
   "id": "94cd3e32-a692-4231-843b-b877625bb78c",
   "metadata": {},
   "outputs": [
    {
     "data": {
      "text/plain": [
       "[{'task': 'Create a JSON policy document that allows read-only access to all S3 buckets and objects for a specific IAM user',\n",
       "  'format': 'json'},\n",
       " {'task': 'Write a Python function that extracts the region from an AWS ARN string',\n",
       "  'format': 'python'},\n",
       " {'task': 'Create a regular expression that validates AWS S3 bucket names according to AWS naming conventions (lowercase letters, numbers, hyphens, 3-63 characters)',\n",
       "  'format': 'regex'}]"
      ]
     },
     "execution_count": 4,
     "metadata": {},
     "output_type": "execute_result"
    }
   ],
   "source": [
    "dataset = generate_dataset()\n",
    "with open(\"data/dataset.json\", \"w\") as f:\n",
    "    json.dump(dataset, f, indent=2)\n",
    "dataset"
   ]
  },
  {
   "cell_type": "code",
   "execution_count": 5,
   "id": "f24ef1bd-18ed-48dc-94b3-649b30d15b22",
   "metadata": {},
   "outputs": [],
   "source": [
    "def grade_by_model(test_case, output):\n",
    "    # Create evaluation prompt\n",
    "    eval_prompt = f'''\n",
    "    You are an expert code reviewer. Evaluate this AI-generated solution.\n",
    "    \n",
    "    Original Task:\n",
    "    <task>\n",
    "    {test_case[\"task\"]}\n",
    "    </task>\n",
    "    \n",
    "    Solution to Evaluate:\n",
    "    <solution>\n",
    "    {output}\n",
    "    </solution>\n",
    "    \n",
    "    Provide your evaluation as a structured JSON object with:\n",
    "    - \"strengths\": An array of 1-3 key strengths\n",
    "    - \"weaknesses\": An array of 1-3 key areas for improvement  \n",
    "    - \"reasoning\": A concise explanation of your assessment\n",
    "    - \"score\": A number between 1-10\n",
    "    Respond with JSON. Keep your response concise and direct.\n",
    "    Example response shape:\n",
    "    {{\n",
    "        \"strengths\": string[],\n",
    "        \"weaknesses\": string[],\n",
    "        \"reasoning\": string,\n",
    "        \"score\": number\n",
    "    }}\n",
    "    '''\n",
    "    \n",
    "    messages = []\n",
    "    add_user_message(messages, eval_prompt)\n",
    "    add_assistant_message(messages, \"```json\")\n",
    "    \n",
    "    eval_text = chat(messages, stop_sequences=[\"```\"])\n",
    "    return json.loads(eval_text)"
   ]
  },
  {
   "cell_type": "code",
   "execution_count": 6,
   "id": "cad65aa8-c26c-4403-a4b1-59aa37e3b520",
   "metadata": {},
   "outputs": [],
   "source": [
    "def validate_json(text):\n",
    "    try:\n",
    "        json.loads(text.strip())\n",
    "        return 10\n",
    "    except json.JSONDecodeError:\n",
    "        return 0\n",
    "\n",
    "\n",
    "def validate_python(text):\n",
    "    try:\n",
    "        ast.parse(text.strip())\n",
    "        return 10\n",
    "    except SyntaxError:\n",
    "        return 0\n",
    "\n",
    "\n",
    "def validate_regex(text):\n",
    "    try:\n",
    "        re.compile(text.strip())\n",
    "        return 10\n",
    "    except re.error:\n",
    "        return 0\n",
    "\n",
    "\n",
    "def grade_syntax(response, test_case):\n",
    "    format = test_case[\"format\"]\n",
    "    if format == \"json\":\n",
    "        return validate_json(response)\n",
    "    elif format == \"python\":\n",
    "        return validate_python(response)\n",
    "    else:\n",
    "        return validate_regex(response)\n"
   ]
  },
  {
   "cell_type": "code",
   "execution_count": 7,
   "id": "d8913f12-1063-42ef-9cf7-b331f0389e93",
   "metadata": {},
   "outputs": [],
   "source": [
    "def run_prompt(test_case):\n",
    "    \"\"\"Merges the prompt and test case input, then returns the result\"\"\"\n",
    "    \n",
    "    prompt = f\"\"\"Please solve the following task:\n",
    "\n",
    "    {test_case[\"task\"]}\n",
    "    * Respond only with Python, JSON, or a plain Regex\n",
    "    * Do not add any comments or commentary or explanation\n",
    "    \"\"\"\n",
    "\n",
    "    messages=[]\n",
    "    add_user_message(messages, prompt)\n",
    "    add_assistant_message(messages, \"```code\")\n",
    "    output = chat(messages, stop_sequences=[\"```\"])\n",
    "    return output\n",
    "    \n",
    "\n",
    "def run_test_case(test_case):\n",
    "    \"\"\"Calls run_prompt, then grades the result\"\"\"\n",
    "    output = run_prompt(test_case)\n",
    "\n",
    "    # GRADE\n",
    "    model_grade = grade_by_model(test_case, output)\n",
    "    model_score = model_grade[\"score\"]\n",
    "    reasoning = model_grade[\"reasoning\"]\n",
    "\n",
    "    syntax_score = grade_syntax(output, test_case)\n",
    "    score = (model_score + syntax_score) /2\n",
    "    return {\n",
    "    \"output\": output,\n",
    "    \"test_case\": test_case,\n",
    "    \"score\": score,\n",
    "    \"reasoning\":reasoning\n",
    "    }\n",
    "    \n",
    "def run_eval(dataset):\n",
    "    \"\"\"Loads the dataset and calls run_test_case with each case\"\"\"\n",
    "    results = []\n",
    "\n",
    "    for test_case in dataset:\n",
    "        result = run_test_case(test_case)\n",
    "        results.append(result)\n",
    "\n",
    "    average_score = mean([result[\"score\"] for result in results])\n",
    "    print(f\"Average score: {average_score}\")\n",
    "\n",
    "    return results"
   ]
  },
  {
   "cell_type": "code",
   "execution_count": 9,
   "id": "dc5b3552-8b60-47c8-8780-226c2bc6599c",
   "metadata": {},
   "outputs": [
    {
     "name": "stdout",
     "output_type": "stream",
     "text": [
      "Average score: 7.833333333333333\n"
     ]
    }
   ],
   "source": [
    "results = run_eval(dataset)"
   ]
  },
  {
   "cell_type": "code",
   "execution_count": 10,
   "id": "f224ec2d-4a3e-40ea-a974-1657d76c50c9",
   "metadata": {},
   "outputs": [
    {
     "name": "stdout",
     "output_type": "stream",
     "text": [
      "[\n",
      "  {\n",
      "    \"output\": \"\\n{\\n    \\\"Version\\\": \\\"2012-10-17\\\",\\n    \\\"Statement\\\": [\\n        {\\n            \\\"Effect\\\": \\\"Allow\\\",\\n            \\\"Action\\\": [\\n                \\\"s3:GetObject\\\",\\n                \\\"s3:GetObjectVersion\\\",\\n                \\\"s3:ListBucket\\\",\\n                \\\"s3:ListBucketVersions\\\",\\n                \\\"s3:GetBucketLocation\\\",\\n                \\\"s3:GetBucketVersioning\\\",\\n                \\\"s3:ListAllMyBuckets\\\"\\n            ],\\n            \\\"Resource\\\": [\\n                \\\"arn:aws:s3:::*\\\",\\n                \\\"arn:aws:s3:::*/*\\\"\\n            ]\\n        }\\n    ]\\n}\\n\",\n",
      "    \"test_case\": {\n",
      "      \"task\": \"Create a JSON policy document that allows read-only access to all S3 buckets and objects for a specific IAM user\",\n",
      "      \"format\": \"json\"\n",
      "    },\n",
      "    \"score\": 8.5,\n",
      "    \"reasoning\": \"The policy correctly provides read-only S3 access with proper JSON structure and relevant permissions. However, it doesn't address the 'specific IAM user' requirement and could include additional read-only actions for completeness. The broad resource scope is appropriate for the 'all S3 buckets' requirement but should be noted as a security consideration.\"\n",
      "  },\n",
      "  {\n",
      "    \"output\": \"\\ndef extract_region_from_arn(arn):\\n    parts = arn.split(':')\\n    if len(parts) >= 4:\\n        return parts[3]\\n    return None\\n\",\n",
      "    \"test_case\": {\n",
      "      \"task\": \"Write a Python function that extracts the region from an AWS ARN string\",\n",
      "      \"format\": \"python\"\n",
      "    },\n",
      "    \"score\": 8.0,\n",
      "    \"reasoning\": \"The solution correctly extracts the region from a valid ARN string using the standard AWS ARN format (arn:partition:service:region:account:resource). However, it lacks input validation and error handling that would make it production-ready. The core logic is sound but fragile for edge cases.\"\n",
      "  },\n",
      "  {\n",
      "    \"output\": \"\\n^[a-z0-9][a-z0-9-]*[a-z0-9]$|^[a-z0-9]$\\n\",\n",
      "    \"test_case\": {\n",
      "      \"task\": \"Create a regular expression that validates AWS S3 bucket names according to AWS naming conventions (lowercase letters, numbers, hyphens, 3-63 characters)\",\n",
      "      \"format\": \"regex\"\n",
      "    },\n",
      "    \"score\": 7.0,\n",
      "    \"reasoning\": \"The regex partially implements AWS S3 naming rules by handling character restrictions and start/end constraints, but critically fails to enforce the 3-63 character length requirement and allows consecutive hyphens. These are fundamental AWS S3 naming violations that would cause bucket creation to fail.\"\n",
      "  }\n",
      "]\n"
     ]
    }
   ],
   "source": [
    "print(json.dumps(results, indent=2))"
   ]
  },
  {
   "cell_type": "code",
   "execution_count": null,
   "id": "52d5278a-af9a-4930-b22c-9a72ac0880c4",
   "metadata": {},
   "outputs": [],
   "source": []
  }
 ],
 "metadata": {
  "kernelspec": {
   "display_name": "Python 3 (ipykernel)",
   "language": "python",
   "name": "python3"
  },
  "language_info": {
   "codemirror_mode": {
    "name": "ipython",
    "version": 3
   },
   "file_extension": ".py",
   "mimetype": "text/x-python",
   "name": "python",
   "nbconvert_exporter": "python",
   "pygments_lexer": "ipython3",
   "version": "3.12.2"
  }
 },
 "nbformat": 4,
 "nbformat_minor": 5
}
