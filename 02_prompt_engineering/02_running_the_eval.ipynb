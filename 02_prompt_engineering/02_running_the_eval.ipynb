{
 "cells": [
  {
   "cell_type": "code",
   "execution_count": 1,
   "id": "5b418d5f-90a1-450b-8c7f-10219288d58e",
   "metadata": {},
   "outputs": [],
   "source": [
    "from dotenv import load_dotenv\n",
    "from anthropic import Anthropic\n",
    "import json\n",
    "\n",
    "load_dotenv()\n",
    "client = Anthropic()\n",
    "model = \"claude-sonnet-4-0\""
   ]
  },
  {
   "cell_type": "code",
   "execution_count": 2,
   "id": "1ce0903a-7112-4a00-8552-e7b0ed089a8d",
   "metadata": {},
   "outputs": [],
   "source": [
    "def add_user_message(messages, text):\n",
    "    messages.append({\"role\": \"user\", \"content\": text})\n",
    "    return messages\n",
    "\n",
    "def add_assistent_messages(messages, text):\n",
    "    messages.append({\"role\": \"assistant\", \"content\": text})\n",
    "    return messages\n",
    "\n",
    "def chat(messages, system=None, temperature=1.0, stop_sequences=[]):\n",
    "    params = {\n",
    "            \"model\": model,\n",
    "            \"max_tokens\": 1000,\n",
    "            \"messages\": messages,\n",
    "            \"temperature\":temperature,\n",
    "            \"stop_sequences\":stop_sequences,\n",
    "    }\n",
    "    if system:\n",
    "        params[\"system\"] = system\n",
    "\n",
    "    message = client.messages.create(\n",
    "        **params\n",
    "    )\n",
    "    return message.content[0].text\n"
   ]
  },
  {
   "cell_type": "code",
   "execution_count": 3,
   "id": "91ff7a09-b8f6-472a-891a-a553a9627370",
   "metadata": {},
   "outputs": [
    {
     "data": {
      "text/plain": [
       "[{'task': 'Write a Python function to create an AWS S3 bucket with a given name.'},\n",
       " {'task': 'Create a JSON object to configure an AWS Lambda function with a specified runtime, memory size, and timeout.'},\n",
       " {'task': \"Write a regular expression to validate an AWS EC2 instance ID in the format 'i-0123456789abcdef'.\"}]"
      ]
     },
     "execution_count": 3,
     "metadata": {},
     "output_type": "execute_result"
    }
   ],
   "source": [
    "with open(\"data/dataset.json\") as f:\n",
    "    dataset = json.load(f)\n",
    "dataset"
   ]
  },
  {
   "cell_type": "code",
   "execution_count": 19,
   "id": "b4fa2213-fd0f-4bf8-9041-2d0fa3e54b94",
   "metadata": {},
   "outputs": [],
   "source": [
    "def run_prompt(test_case):\n",
    "    \"\"\"Merges the prompt and test case input, then returns the result\"\"\"\n",
    "    \n",
    "    prompt = f\"\"\"Please solve the following task:\n",
    "\n",
    "    {test_case[\"task\"]}\n",
    "    \"\"\"\n",
    "\n",
    "    messages=[]\n",
    "    add_user_message(messages, prompt)\n",
    "    output = chat(messages)\n",
    "    return output\n",
    "    \n",
    "\n",
    "def run_test_case(test_case):\n",
    "    \"\"\"Calls run_prompt, then grades the result\"\"\"\n",
    "    output = run_prompt(test_case)\n",
    "    # GRADE\n",
    "    score = 10\n",
    "    \n",
    "    return {\n",
    "    \"output\": output,\n",
    "    \"test_case\": test_case,\n",
    "    \"score\": score,\n",
    "    }\n",
    "    \n",
    "def run_eval(dataset):\n",
    "    \"\"\"Loads the dataset and calls run_test_case with each case\"\"\"\n",
    "    results=[]\n",
    "    for item in dataset:\n",
    "        # print(item)\n",
    "        result = run_test_case(item)\n",
    "        results.append(result)\n",
    "    return results"
   ]
  },
  {
   "cell_type": "code",
   "execution_count": 20,
   "id": "66aa3c0f-fc9b-42df-a61f-a471675f1d83",
   "metadata": {},
   "outputs": [],
   "source": [
    "results = run_eval(dataset)"
   ]
  },
  {
   "cell_type": "code",
   "execution_count": 23,
   "id": "d226a25c-364c-4536-a949-5c96ac78c4c5",
   "metadata": {},
   "outputs": [
    {
     "name": "stdout",
     "output_type": "stream",
     "text": [
      "[\n",
      "  {\n",
      "    \"output\": \"Here's a Python function to create an AWS S3 bucket with a given name:\\n\\n```python\\nimport boto3\\nfrom botocore.exceptions import ClientError\\nimport logging\\n\\ndef create_s3_bucket(bucket_name, region=None):\\n    \\\"\\\"\\\"\\n    Create an S3 bucket in a specified region\\n    \\n    :param bucket_name: Bucket to create\\n    :param region: String region to create bucket in, e.g., 'us-west-2'\\n    :return: True if bucket created successfully, False otherwise\\n    \\\"\\\"\\\"\\n    \\n    # Create S3 client\\n    try:\\n        if region is None:\\n            s3_client = boto3.client('s3')\\n            s3_client.create_bucket(Bucket=bucket_name)\\n        else:\\n            s3_client = boto3.client('s3', region_name=region)\\n            location = {'LocationConstraint': region}\\n            s3_client.create_bucket(\\n                Bucket=bucket_name,\\n                CreateBucketConfiguration=location\\n            )\\n        \\n        print(f\\\"Bucket '{bucket_name}' created successfully!\\\")\\n        return True\\n        \\n    except ClientError as e:\\n        error_code = e.response['Error']['Code']\\n        if error_code == 'BucketAlreadyExists':\\n            print(f\\\"Bucket '{bucket_name}' already exists and is owned by another account.\\\")\\n        elif error_code == 'BucketAlreadyOwnedByYou':\\n            print(f\\\"Bucket '{bucket_name}' already exists and is owned by you.\\\")\\n        else:\\n            print(f\\\"Error creating bucket: {e}\\\")\\n        return False\\n    \\n    except Exception as e:\\n        print(f\\\"Unexpected error: {e}\\\")\\n        return False\\n\\n# Alternative version with more configuration options\\ndef create_s3_bucket_advanced(bucket_name, region=None, public_access_block=True):\\n    \\\"\\\"\\\"\\n    Create an S3 bucket with advanced configuration options\\n    \\n    :param bucket_name: Bucket to create\\n    :param region: String region to create bucket in\\n    :param public_access_block: Boolean to block public access (recommended for security)\\n    :return: True if bucket created successfully, False otherwise\\n    \\\"\\\"\\\"\\n    \\n    try:\\n        # Create S3 client\\n        s3_client = boto3.client('s3', region_name=region) if region else boto3.client('s3')\\n        \\n        # Create bucket\\n        if region and region != 'us-east-1':\\n            location = {'LocationConstraint': region}\\n            s3_client.create_bucket(\\n                Bucket=bucket_name,\\n                CreateBucketConfiguration=location\\n            )\\n        else:\\n            # us-east-1 doesn't need LocationConstraint\\n            s3_client.create_bucket(Bucket=bucket_name)\\n        \\n        # Configure public access block (recommended for security)\\n        if public_access_block:\\n            s3_client.put_public_access_block(\\n                Bucket=bucket_name,\\n                PublicAccessBlockConfiguration={\\n                    'BlockPublicAcls': True,\\n                    'IgnorePublicAcls': True,\\n                    'BlockPublicPolicy': True,\\n                    'RestrictPublicBuckets': True\\n                }\\n            )\\n        \\n        print(f\\\"Bucket '{bucket_name}' created successfully in region '{region or 'us-east-1'}'!\\\")\\n        return True\\n        \\n    except ClientError as e:\\n        error_code = e.response['Error']['Code']\\n        if error_code == 'BucketAlreadyExists':\\n            print(f\\\"Bucket '{bucket_name}' already exists and is owned by another account.\\\")\\n        elif error_code == 'BucketAlreadyOwnedByYou':\\n            print(f\\\"Bucket '{bucket_name}' already exists and is owned by you.\\\")\\n        else:\\n            print(f\\\"Error creating bucket: {e}\\\")\\n        return False\\n    \\n    except Exception as e:\\n        print(f\\\"Unexpected error: {e}\\\")\\n        return False\\n\\n# Example usage\\nif __name__ ==\",\n",
      "    \"test_case\": {\n",
      "      \"task\": \"Write a Python function to create an AWS S3 bucket with a given name.\"\n",
      "    },\n",
      "    \"score\": 10\n",
      "  },\n",
      "  {\n",
      "    \"output\": \"Here's a JSON object to configure an AWS Lambda function with the specified parameters:\\n\\n```json\\n{\\n  \\\"FunctionName\\\": \\\"my-lambda-function\\\",\\n  \\\"Runtime\\\": \\\"python3.9\\\",\\n  \\\"Role\\\": \\\"arn:aws:iam::123456789012:role/lambda-execution-role\\\",\\n  \\\"Handler\\\": \\\"lambda_function.lambda_handler\\\",\\n  \\\"Code\\\": {\\n    \\\"ZipFile\\\": \\\"base64-encoded-zip-content\\\"\\n  },\\n  \\\"Description\\\": \\\"Sample Lambda function configuration\\\",\\n  \\\"Timeout\\\": 30,\\n  \\\"MemorySize\\\": 256,\\n  \\\"Environment\\\": {\\n    \\\"Variables\\\": {\\n      \\\"ENV\\\": \\\"production\\\",\\n      \\\"LOG_LEVEL\\\": \\\"INFO\\\"\\n    }\\n  },\\n  \\\"Tags\\\": {\\n    \\\"Project\\\": \\\"MyProject\\\",\\n    \\\"Environment\\\": \\\"Production\\\"\\n  }\\n}\\n```\\n\\nHere's an alternative version with different runtime options and configurations:\\n\\n```json\\n{\\n  \\\"FunctionName\\\": \\\"nodejs-lambda-function\\\",\\n  \\\"Runtime\\\": \\\"nodejs18.x\\\",\\n  \\\"Role\\\": \\\"arn:aws:iam::123456789012:role/lambda-execution-role\\\",\\n  \\\"Handler\\\": \\\"index.handler\\\",\\n  \\\"Code\\\": {\\n    \\\"S3Bucket\\\": \\\"my-lambda-deployments\\\",\\n    \\\"S3Key\\\": \\\"function.zip\\\"\\n  },\\n  \\\"Description\\\": \\\"Node.js Lambda function with custom configuration\\\",\\n  \\\"Timeout\\\": 900,\\n  \\\"MemorySize\\\": 1024,\\n  \\\"Environment\\\": {\\n    \\\"Variables\\\": {\\n      \\\"NODE_ENV\\\": \\\"production\\\",\\n      \\\"API_URL\\\": \\\"https://api.example.com\\\"\\n    }\\n  },\\n  \\\"VpcConfig\\\": {\\n    \\\"SubnetIds\\\": [\\\"subnet-12345\\\", \\\"subnet-67890\\\"],\\n    \\\"SecurityGroupIds\\\": [\\\"sg-abcdef\\\"]\\n  },\\n  \\\"DeadLetterConfig\\\": {\\n    \\\"TargetArn\\\": \\\"arn:aws:sqs:us-east-1:123456789012:dlq-queue\\\"\\n  },\\n  \\\"TracingConfig\\\": {\\n    \\\"Mode\\\": \\\"Active\\\"\\n  }\\n}\\n```\\n\\n## Key Configuration Parameters:\\n\\n- **Runtime**: Available options include `python3.9`, `nodejs18.x`, `java11`, `dotnet6`, `go1.x`, etc.\\n- **MemorySize**: Range from 128 MB to 10,240 MB (in 1 MB increments)\\n- **Timeout**: Maximum execution time from 1 second to 900 seconds (15 minutes)\\n- **Handler**: Entry point for your function (format varies by runtime)\\n- **Role**: IAM role ARN that grants necessary permissions\\n- **Code**: Can reference S3 bucket/key or include inline code (ZipFile)\\n\\nYou can customize these values based on your specific requirements for runtime environment, performance needs, and execution time limits.\",\n",
      "    \"test_case\": {\n",
      "      \"task\": \"Create a JSON object to configure an AWS Lambda function with a specified runtime, memory size, and timeout.\"\n",
      "    },\n",
      "    \"score\": 10\n",
      "  },\n",
      "  {\n",
      "    \"output\": \"Here's a regular expression to validate an AWS EC2 instance ID in the format 'i-0123456789abcdef':\\n\\n## Regular Expression\\n\\n```regex\\n^i-[0-9a-f]{17}$\\n```\\n\\n## Explanation\\n\\n- `^` - Start of string anchor\\n- `i-` - Literal string \\\"i-\\\" (all EC2 instance IDs start with this)\\n- `[0-9a-f]{17}` - Exactly 17 characters that are either digits (0-9) or lowercase hexadecimal letters (a-f)\\n- `$` - End of string anchor\\n\\n## Alternative Patterns\\n\\nIf you need to handle both old and new EC2 instance ID formats:\\n\\n```regex\\n^i-[0-9a-f]{8}([0-9a-f]{9})?$\\n```\\n\\nThis pattern handles:\\n- Old format: `i-1234abcd` (8 hex characters)\\n- New format: `i-0123456789abcdef` (17 hex characters)\\n\\n## Usage Examples\\n\\n### Python\\n```python\\nimport re\\n\\npattern = r'^i-[0-9a-f]{17}$'\\n\\n# Valid examples\\nvalid_ids = [\\n    'i-0123456789abcdef0',\\n    'i-1234567890abcdef1',\\n    'i-abcdef0123456789a'\\n]\\n\\n# Invalid examples\\ninvalid_ids = [\\n    'i-123',  # Too short\\n    'i-0123456789abcdefg',  # Contains 'g' (not hex)\\n    'ec2-instance-id',  # Wrong format\\n    'i-0123456789ABCDEF0'  # Uppercase letters\\n]\\n\\nfor instance_id in valid_ids + invalid_ids:\\n    if re.match(pattern, instance_id):\\n        print(f\\\"\\u2713 {instance_id} is valid\\\")\\n    else:\\n        print(f\\\"\\u2717 {instance_id} is invalid\\\")\\n```\\n\\n### JavaScript\\n```javascript\\nconst pattern = /^i-[0-9a-f]{17}$/;\\n\\nconst instanceId = 'i-0123456789abcdef0';\\nif (pattern.test(instanceId)) {\\n    console.log('Valid EC2 instance ID');\\n} else {\\n    console.log('Invalid EC2 instance ID');\\n}\\n```\\n\\nThe regex `^i-[0-9a-f]{17}$` will accurately validate the modern AWS EC2 instance ID format.\",\n",
      "    \"test_case\": {\n",
      "      \"task\": \"Write a regular expression to validate an AWS EC2 instance ID in the format 'i-0123456789abcdef'.\"\n",
      "    },\n",
      "    \"score\": 10\n",
      "  }\n",
      "]\n"
     ]
    }
   ],
   "source": [
    "with open(\"data/results.json\", \"w\") as f:\n",
    "    json.dump(results, f, indent=2)\n",
    "print(json.dumps(results, indent=2))"
   ]
  },
  {
   "cell_type": "code",
   "execution_count": null,
   "id": "b0055866-0176-42f8-bcc7-949402c59c23",
   "metadata": {},
   "outputs": [],
   "source": []
  }
 ],
 "metadata": {
  "kernelspec": {
   "display_name": "Python 3 (ipykernel)",
   "language": "python",
   "name": "python3"
  },
  "language_info": {
   "codemirror_mode": {
    "name": "ipython",
    "version": 3
   },
   "file_extension": ".py",
   "mimetype": "text/x-python",
   "name": "python",
   "nbconvert_exporter": "python",
   "pygments_lexer": "ipython3",
   "version": "3.12.2"
  }
 },
 "nbformat": 4,
 "nbformat_minor": 5
}
