{
 "cells": [
  {
   "cell_type": "code",
   "execution_count": 1,
   "id": "9599652f-c4c3-4ea9-8fc1-cfd9b6e597eb",
   "metadata": {},
   "outputs": [],
   "source": [
    "from dotenv import load_dotenv\n",
    "from anthropic import Anthropic\n",
    "import json\n",
    "\n",
    "load_dotenv()\n",
    "client = Anthropic()\n",
    "model = \"claude-sonnet-4-0\""
   ]
  },
  {
   "cell_type": "code",
   "execution_count": 2,
   "id": "cef6bf24-e871-4933-8c14-283c680adf97",
   "metadata": {},
   "outputs": [],
   "source": [
    "def add_user_message(messages, text):\n",
    "    messages.append({\"role\": \"user\", \"content\": text})\n",
    "    return messages\n",
    "\n",
    "def add_assistant_message(messages, text):\n",
    "    messages.append({\"role\": \"assistant\", \"content\": text})\n",
    "    return messages\n",
    "\n",
    "def chat(messages, system=None, temperature=1.0, stop_sequences=[]):\n",
    "    params = {\n",
    "            \"model\": model,\n",
    "            \"max_tokens\": 1000,\n",
    "            \"messages\": messages,\n",
    "            \"temperature\":temperature,\n",
    "            \"stop_sequences\":stop_sequences,\n",
    "    }\n",
    "    if system:\n",
    "        params[\"system\"] = system\n",
    "\n",
    "    message = client.messages.create(\n",
    "        **params\n",
    "    )\n",
    "    return message.content[0].text\n"
   ]
  },
  {
   "cell_type": "code",
   "execution_count": 3,
   "id": "ed3c6a63-0495-485c-bd84-89143281c0ca",
   "metadata": {},
   "outputs": [],
   "source": [
    "def run_prompt(test_case):\n",
    "    \"\"\"Merges the prompt and test case input, then returns the result\"\"\"\n",
    "    \n",
    "    prompt = f\"\"\"Please solve the following task:\n",
    "\n",
    "    {test_case[\"task\"]}\n",
    "    \"\"\"\n",
    "\n",
    "    messages=[]\n",
    "    add_user_message(messages, prompt)\n",
    "    output = chat(messages)\n",
    "    return output\n",
    "    \n",
    "\n",
    "def run_test_case(test_case):\n",
    "    \"\"\"Calls run_prompt, then grades the result\"\"\"\n",
    "    output = run_prompt(test_case)\n",
    "\n",
    "    # GRADE\n",
    "    model_grade = grade_by_model(test_case, output)\n",
    "    score = model_grade[\"score\"]\n",
    "    reasoning = model_grade[\"reasoning\"]\n",
    "    return {\n",
    "    \"output\": output,\n",
    "    \"test_case\": test_case,\n",
    "    \"score\": score,\n",
    "    \"reasoning\":reasoning\n",
    "    }\n",
    "    \n",
    "def run_eval(dataset):\n",
    "    \"\"\"Loads the dataset and calls run_test_case with each case\"\"\"\n",
    "    results=[]\n",
    "    for item in dataset:\n",
    "        # print(item)\n",
    "        result = run_test_case(item)\n",
    "        results.append(result)\n",
    "    return results"
   ]
  },
  {
   "cell_type": "code",
   "execution_count": 4,
   "id": "0bf8d982-cc07-46ce-ada6-8720458d7327",
   "metadata": {},
   "outputs": [
    {
     "data": {
      "text/plain": [
       "[{'task': 'Write a Python function to create an AWS S3 bucket with a given name.'},\n",
       " {'task': 'Create a JSON object to configure an AWS Lambda function with a specified runtime, memory size, and timeout.'},\n",
       " {'task': \"Write a regular expression to validate an AWS EC2 instance ID in the format 'i-0123456789abcdef'.\"}]"
      ]
     },
     "execution_count": 4,
     "metadata": {},
     "output_type": "execute_result"
    }
   ],
   "source": [
    "with open(\"data/dataset.json\") as f:\n",
    "    dataset = json.load(f)\n",
    "dataset"
   ]
  },
  {
   "cell_type": "code",
   "execution_count": 5,
   "id": "807e55b8-1558-4f3c-86db-85b1d839fd94",
   "metadata": {},
   "outputs": [],
   "source": [
    "def grade_by_model(test_case, output):\n",
    "    # Create evaluation prompt\n",
    "    eval_prompt = f'''\n",
    "    You are an expert code reviewer. Evaluate this AI-generated solution.\n",
    "    \n",
    "    Original Task:\n",
    "    <task>\n",
    "    {test_case[\"task\"]}\n",
    "    </task>\n",
    "    \n",
    "    Solution to Evaluate:\n",
    "    <solution>\n",
    "    {output}\n",
    "    </solution>\n",
    "    \n",
    "    Provide your evaluation as a structured JSON object with:\n",
    "    - \"strengths\": An array of 1-3 key strengths\n",
    "    - \"weaknesses\": An array of 1-3 key areas for improvement  \n",
    "    - \"reasoning\": A concise explanation of your assessment\n",
    "    - \"score\": A number between 1-10\n",
    "    Respond with JSON. Keep your response concise and direct.\n",
    "    Example response shape:\n",
    "    {{\n",
    "        \"strengths\": string[],\n",
    "        \"weaknesses\": string[],\n",
    "        \"reasoning\": string,\n",
    "        \"score\": number\n",
    "    }}\n",
    "    '''\n",
    "    \n",
    "    messages = []\n",
    "    add_user_message(messages, eval_prompt)\n",
    "    add_assistant_message(messages, \"```json\")\n",
    "    \n",
    "    eval_text = chat(messages, stop_sequences=[\"```\"])\n",
    "    return json.loads(eval_text)"
   ]
  },
  {
   "cell_type": "code",
   "execution_count": 6,
   "id": "c1a806a7-3798-471f-9c17-46ddc9cf1f4c",
   "metadata": {},
   "outputs": [],
   "source": [
    "from statistics import mean\n",
    "\n",
    "def run_eval(dataset):\n",
    "    results = []\n",
    "    \n",
    "    for test_case in dataset:\n",
    "        result = run_test_case(test_case)\n",
    "        results.append(result)\n",
    "    \n",
    "    average_score = mean([result[\"score\"] for result in results])\n",
    "    print(f\"Average score: {average_score}\")\n",
    "    \n",
    "    return results"
   ]
  },
  {
   "cell_type": "code",
   "execution_count": 7,
   "id": "8e9f8230-a5a2-4065-a69a-d5785966386d",
   "metadata": {},
   "outputs": [
    {
     "name": "stdout",
     "output_type": "stream",
     "text": [
      "Average score: 6\n"
     ]
    },
    {
     "data": {
      "text/plain": [
       "[{'output': 'Here\\'s a Python function to create an AWS S3 bucket with a given name:\\n\\n```python\\nimport boto3\\nfrom botocore.exceptions import ClientError\\nimport logging\\n\\ndef create_s3_bucket(bucket_name, region=None):\\n    \"\"\"\\n    Create an AWS S3 bucket with the given name.\\n    \\n    Args:\\n        bucket_name (str): Name of the S3 bucket to create\\n        region (str, optional): AWS region where the bucket should be created.\\n                               If None, uses the default region from AWS configuration.\\n    \\n    Returns:\\n        bool: True if bucket was created successfully, False otherwise\\n    \"\"\"\\n    \\n    # Create S3 client\\n    try:\\n        if region is None:\\n            s3_client = boto3.client(\\'s3\\')\\n        else:\\n            s3_client = boto3.client(\\'s3\\', region_name=region)\\n    except Exception as e:\\n        logging.error(f\"Error creating S3 client: {e}\")\\n        return False\\n    \\n    # Create bucket\\n    try:\\n        if region is None or region == \\'us-east-1\\':\\n            # For us-east-1, don\\'t specify LocationConstraint\\n            s3_client.create_bucket(Bucket=bucket_name)\\n        else:\\n            # For other regions, specify LocationConstraint\\n            s3_client.create_bucket(\\n                Bucket=bucket_name,\\n                CreateBucketConfiguration={\\'LocationConstraint\\': region}\\n            )\\n        \\n        logging.info(f\"Bucket \\'{bucket_name}\\' created successfully\")\\n        return True\\n        \\n    except ClientError as e:\\n        error_code = e.response[\\'Error\\'][\\'Code\\']\\n        \\n        if error_code == \\'BucketAlreadyExists\\':\\n            logging.error(f\"Bucket \\'{bucket_name}\\' already exists and is owned by another account\")\\n        elif error_code == \\'BucketAlreadyOwnedByYou\\':\\n            logging.warning(f\"Bucket \\'{bucket_name}\\' already exists and is owned by you\")\\n            return True  # Consider this a success\\n        elif error_code == \\'InvalidBucketName\\':\\n            logging.error(f\"Invalid bucket name: \\'{bucket_name}\\'\")\\n        else:\\n            logging.error(f\"Error creating bucket: {e}\")\\n        \\n        return False\\n    \\n    except Exception as e:\\n        logging.error(f\"Unexpected error: {e}\")\\n        return False\\n\\n\\n# Alternative version with more detailed error handling and validation\\ndef create_s3_bucket_advanced(bucket_name, region=None, enable_versioning=False):\\n    \"\"\"\\n    Create an AWS S3 bucket with advanced options.\\n    \\n    Args:\\n        bucket_name (str): Name of the S3 bucket to create\\n        region (str, optional): AWS region where the bucket should be created\\n        enable_versioning (bool): Whether to enable versioning on the bucket\\n    \\n    Returns:\\n        dict: Dictionary containing success status and bucket information\\n    \"\"\"\\n    \\n    # Validate bucket name\\n    if not _is_valid_bucket_name(bucket_name):\\n        return {\\n            \\'success\\': False,\\n            \\'error\\': \\'Invalid bucket name. Please check S3 bucket naming rules.\\',\\n            \\'bucket_name\\': bucket_name\\n        }\\n    \\n    # Create S3 client\\n    try:\\n        if region is None:\\n            s3_client = boto3.client(\\'s3\\')\\n        else:\\n            s3_client = boto3.client(\\'s3\\', region_name=region)\\n    except Exception as e:\\n        return {\\n            \\'success\\': False,\\n            \\'error\\': f\\'Error creating S3 client: {str(e)}\\',\\n            \\'bucket_name\\': bucket_name\\n        }\\n    \\n    # Create bucket\\n    try:\\n        if region is None or region == \\'us-east-1\\':\\n            response = s3_client.create_bucket(Bucket=bucket_name)\\n        else:\\n            response = s3_client.create_bucket(\\n                Bucket=bucket_name,\\n                CreateBucketConfiguration={\\'LocationConstraint\\': region}\\n            )\\n        \\n        # Enable versioning if requested',\n",
       "  'test_case': {'task': 'Write a Python function to create an AWS S3 bucket with a given name.'},\n",
       "  'score': 6,\n",
       "  'reasoning': \"The solution demonstrates solid understanding of AWS S3 bucket creation with proper error handling and region considerations. However, it's incomplete with missing implementations and referenced functions. The basic function is well-structured and would work correctly, but the advanced version appears truncated.\"},\n",
       " {'output': 'Here\\'s a JSON object to configure an AWS Lambda function with runtime, memory size, and timeout specifications:\\n\\n```json\\n{\\n  \"FunctionName\": \"my-lambda-function\",\\n  \"Runtime\": \"python3.11\",\\n  \"Role\": \"arn:aws:iam::123456789012:role/lambda-execution-role\",\\n  \"Handler\": \"lambda_function.lambda_handler\",\\n  \"Code\": {\\n    \"ZipFile\": \"def lambda_handler(event, context): return {\\'statusCode\\': 200, \\'body\\': \\'Hello World\\'}\"\\n  },\\n  \"Description\": \"Sample Lambda function configuration\",\\n  \"Timeout\": 30,\\n  \"MemorySize\": 256,\\n  \"Environment\": {\\n    \"Variables\": {\\n      \"ENV\": \"production\"\\n    }\\n  },\\n  \"Tags\": {\\n    \"Project\": \"MyProject\",\\n    \"Environment\": \"Production\"\\n  }\\n}\\n```\\n\\n## Key Configuration Parameters:\\n\\n- **Runtime**: `python3.11` (other options: `nodejs18.x`, `java17`, `dotnet6`, etc.)\\n- **MemorySize**: `256` MB (range: 128 MB to 10,240 MB)\\n- **Timeout**: `30` seconds (range: 1 second to 15 minutes/900 seconds)\\n\\n## Alternative Configuration Examples:\\n\\n### High-Performance Configuration:\\n```json\\n{\\n  \"FunctionName\": \"high-performance-function\",\\n  \"Runtime\": \"nodejs18.x\",\\n  \"Role\": \"arn:aws:iam::123456789012:role/lambda-execution-role\",\\n  \"Handler\": \"index.handler\",\\n  \"MemorySize\": 1024,\\n  \"Timeout\": 300,\\n  \"Code\": {\\n    \"S3Bucket\": \"my-lambda-code-bucket\",\\n    \"S3Key\": \"function.zip\"\\n  }\\n}\\n```\\n\\n### Minimal Configuration:\\n```json\\n{\\n  \"FunctionName\": \"simple-function\",\\n  \"Runtime\": \"python3.11\",\\n  \"Role\": \"arn:aws:iam::123456789012:role/lambda-execution-role\",\\n  \"Handler\": \"index.handler\",\\n  \"MemorySize\": 128,\\n  \"Timeout\": 15,\\n  \"Code\": {\\n    \"ZipFile\": \"basic function code here\"\\n  }\\n}\\n```\\n\\nThis JSON structure follows the AWS Lambda CreateFunction API format and includes all the essential parameters for function configuration.',\n",
       "  'test_case': {'task': 'Create a JSON object to configure an AWS Lambda function with a specified runtime, memory size, and timeout.'},\n",
       "  'score': 8,\n",
       "  'reasoning': 'The solution directly addresses the task requirements by providing well-structured JSON configurations for AWS Lambda functions. It goes beyond the basic ask by including multiple examples and documentation of key parameters. While it uses placeholder values and could include more advanced configuration options, the core solution is technically accurate and follows AWS API specifications.'},\n",
       " {'output': 'Here\\'s a regular expression to validate an AWS EC2 instance ID in the format \\'i-0123456789abcdef\\':\\n\\n## Regular Expression\\n```regex\\n^i-[0-9a-f]{17}$\\n```\\n\\n## Explanation\\n- `^` - Start of string anchor\\n- `i-` - Literal characters \"i-\"\\n- `[0-9a-f]` - Character class matching hexadecimal digits (0-9 and a-f)\\n- `{17}` - Exactly 17 occurrences of the preceding character class\\n- `$` - End of string anchor\\n\\n## Alternative (More Flexible)\\nIf you want to be more flexible and allow both uppercase and lowercase hex digits:\\n```regex\\n^i-[0-9a-fA-F]{17}$\\n```\\n\\n## Example Usage\\n\\n### JavaScript\\n```javascript\\nconst ec2InstanceIdPattern = /^i-[0-9a-f]{17}$/;\\n\\n// Test examples\\nconsole.log(ec2InstanceIdPattern.test(\\'i-0123456789abcdef0\\')); // true\\nconsole.log(ec2InstanceIdPattern.test(\\'i-abcdef0123456789a\\')); // true\\nconsole.log(ec2InstanceIdPattern.test(\\'i-0123456789ABCDEF\\')); // false (uppercase)\\nconsole.log(ec2InstanceIdPattern.test(\\'i-123456789abcdef\\')); // false (too short)\\nconsole.log(ec2InstanceIdPattern.test(\\'instance-123456789\\')); // false (wrong format)\\n```\\n\\n### Python\\n```python\\nimport re\\n\\nec2_instance_id_pattern = r\\'^i-[0-9a-f]{17}$\\'\\n\\n# Test examples\\nprint(re.match(ec2_instance_id_pattern, \\'i-0123456789abcdef0\\'))  # Match object\\nprint(re.match(ec2_instance_id_pattern, \\'i-invalid\\'))  # None\\n```\\n\\n## Notes\\n- AWS EC2 instance IDs always start with \"i-\"\\n- The identifier part is exactly 17 characters long\\n- The identifier uses hexadecimal characters (0-9, a-f)\\n- AWS typically uses lowercase letters, but you can modify the regex to accept uppercase if needed',\n",
       "  'test_case': {'task': \"Write a regular expression to validate an AWS EC2 instance ID in the format 'i-0123456789abcdef'.\"},\n",
       "  'score': 4,\n",
       "  'reasoning': \"While the solution demonstrates good regex knowledge and documentation practices, it has a fundamental flaw in understanding AWS EC2 instance ID specifications. The rigid 17-character requirement doesn't match actual AWS formats, which use either 8 or 17 characters after the 'i-' prefix. This makes the regex functionally incorrect for real-world validation.\"}]"
      ]
     },
     "execution_count": 7,
     "metadata": {},
     "output_type": "execute_result"
    }
   ],
   "source": [
    "eval_results = run_eval(dataset)\n",
    "eval_results"
   ]
  },
  {
   "cell_type": "code",
   "execution_count": null,
   "id": "3194ef87-02e6-4474-909a-47a18ec1e85b",
   "metadata": {},
   "outputs": [],
   "source": []
  }
 ],
 "metadata": {
  "kernelspec": {
   "display_name": "Python 3 (ipykernel)",
   "language": "python",
   "name": "python3"
  },
  "language_info": {
   "codemirror_mode": {
    "name": "ipython",
    "version": 3
   },
   "file_extension": ".py",
   "mimetype": "text/x-python",
   "name": "python",
   "nbconvert_exporter": "python",
   "pygments_lexer": "ipython3",
   "version": "3.12.2"
  }
 },
 "nbformat": 4,
 "nbformat_minor": 5
}
