{
 "cells": [
  {
   "cell_type": "code",
   "execution_count": 1,
   "metadata": {},
   "outputs": [],
   "source": [
    "# Load env variables and create client\n",
    "from anthropic import Anthropic\n",
    "from anthropic.types import ToolParam, Message\n",
    "from datetime import datetime, timedelta\n",
    "from dotenv import load_dotenv\n",
    "import json\n",
    "load_dotenv()\n",
    "\n",
    "client = Anthropic()\n",
    "model = \"claude-3-7-sonnet-latest\""
   ]
  },
  {
   "cell_type": "code",
   "execution_count": 29,
   "metadata": {},
   "outputs": [],
   "source": [
    "# Helper functions\n",
    "def add_user_message(messages, message):\n",
    "    user_message = {\n",
    "        \"role\": \"user\", \n",
    "        \"content\": message.content if isinstance(message, Message) else message,\n",
    "    }\n",
    "    messages.append(user_message)\n",
    "\n",
    "\n",
    "def add_assistant_message(messages, message):\n",
    "    assistant_message = {\n",
    "        \"role\": \"assistant\", \n",
    "        \"content\": message.content if isinstance(message, Message) else message,\n",
    "    }\n",
    "    messages.append(assistant_message)\n",
    "\n",
    "\n",
    "def chat(messages, system=None, temperature=1.0, stop_sequences=[], tools=None, tool_choice=None):\n",
    "    params = {\n",
    "        \"model\": model,\n",
    "        \"max_tokens\": 1000,\n",
    "        \"messages\": messages,\n",
    "        \"temperature\": temperature,\n",
    "        \"stop_sequences\": stop_sequences,\n",
    "    }\n",
    "\n",
    "    if system:\n",
    "        params[\"system\"] = system\n",
    "    if tools:\n",
    "        params[\"tools\"] = tools\n",
    "    if tool_choice:\n",
    "        params[\"tool_choice\"] = tool_choice\n",
    "\n",
    "    message = client.messages.create(**params)\n",
    "    return message\n",
    "\n",
    "def text_from_message(message):\n",
    "    return \"\\n\".join(\n",
    "        [block.text for block in message.content if block.type == \"text\"]\n",
    "    )"
   ]
  },
  {
   "cell_type": "code",
   "execution_count": 39,
   "metadata": {},
   "outputs": [],
   "source": [
    "# Tools and Schemas\n",
    "\n",
    "from datetime import datetime, timedelta\n",
    "\n",
    "\n",
    "def add_duration_to_datetime(\n",
    "    datetime_str, duration=0, unit=\"days\", input_format=\"%Y-%m-%d\"\n",
    "):\n",
    "    date = datetime.strptime(datetime_str, input_format)\n",
    "\n",
    "    if unit == \"seconds\":\n",
    "        new_date = date + timedelta(seconds=duration)\n",
    "    elif unit == \"minutes\":\n",
    "        new_date = date + timedelta(minutes=duration)\n",
    "    elif unit == \"hours\":\n",
    "        new_date = date + timedelta(hours=duration)\n",
    "    elif unit == \"days\":\n",
    "        new_date = date + timedelta(days=duration)\n",
    "    elif unit == \"weeks\":\n",
    "        new_date = date + timedelta(weeks=duration)\n",
    "    elif unit == \"months\":\n",
    "        month = date.month + duration\n",
    "        year = date.year + month // 12\n",
    "        month = month % 12\n",
    "        if month == 0:\n",
    "            month = 12\n",
    "            year -= 1\n",
    "        day = min(\n",
    "            date.day,\n",
    "            [\n",
    "                31,\n",
    "                29\n",
    "                if year % 4 == 0 and (year % 100 != 0 or year % 400 == 0)\n",
    "                else 28,\n",
    "                31,\n",
    "                30,\n",
    "                31,\n",
    "                30,\n",
    "                31,\n",
    "                31,\n",
    "                30,\n",
    "                31,\n",
    "                30,\n",
    "                31,\n",
    "            ][month - 1],\n",
    "        )\n",
    "        new_date = date.replace(year=year, month=month, day=day)\n",
    "    elif unit == \"years\":\n",
    "        new_date = date.replace(year=date.year + duration)\n",
    "    else:\n",
    "        raise ValueError(f\"Unsupported time unit: {unit}\")\n",
    "\n",
    "    return new_date.strftime(\"%A, %B %d, %Y %I:%M:%S %p\")\n",
    "\n",
    "\n",
    "def set_reminder(content, timestamp):\n",
    "    print(\n",
    "        f\"----\\nSetting the following reminder for {timestamp}:\\n{content}\\n----\"\n",
    "    )\n",
    "\n",
    "\n",
    "article_summary_schema = {\n",
    "    \"name\": \"article_summary\",\n",
    "    \"description\": \"Creates a summary of an article with its key insights. Use this tool when you need to generate a structured summary of an article, research paper, or any textual content. The tool requires the article's title, author name, and a list of the most important insights or takeaways from the content. Each insight should be a concise statement capturing a significant point from the article.\",\n",
    "    \"input_schema\": {\n",
    "        \"type\": \"object\",\n",
    "        \"properties\": {\n",
    "            \"title\": {\n",
    "                \"type\": \"string\",\n",
    "                \"description\": \"The title of the article being summarized.\",\n",
    "            },\n",
    "            \"author\": {\n",
    "                \"type\": \"string\",\n",
    "                \"description\": \"The name of the author who wrote the article.\",\n",
    "            },\n",
    "            \"key_insights\": {\n",
    "                \"type\": \"array\",\n",
    "                \"items\": {\"type\": \"string\"},\n",
    "                \"description\": \"A list of the most important takeaways or insights from the article. Each insight should be a complete, concise statement.\",\n",
    "            },\n",
    "        },\n",
    "        \"required\": [\"title\", \"author\", \"key_insights\"],\n",
    "    },\n",
    "}\n",
    "    \n",
    "add_duration_to_datetime_schema = {\n",
    "    \"name\": \"add_duration_to_datetime\",\n",
    "    \"description\": \"Adds a specified duration to a datetime string and returns the resulting datetime in a detailed format. This tool converts an input datetime string to a Python datetime object, adds the specified duration in the requested unit, and returns a formatted string of the resulting datetime. It handles various time units including seconds, minutes, hours, days, weeks, months, and years, with special handling for month and year calculations to account for varying month lengths and leap years. The output is always returned in a detailed format that includes the day of the week, month name, day, year, and time with AM/PM indicator (e.g., 'Thursday, April 03, 2025 10:30:00 AM').\",\n",
    "    \"input_schema\": {\n",
    "        \"type\": \"object\",\n",
    "        \"properties\": {\n",
    "            \"datetime_str\": {\n",
    "                \"type\": \"string\",\n",
    "                \"description\": \"The input datetime string to which the duration will be added. This should be formatted according to the input_format parameter.\",\n",
    "            },\n",
    "            \"duration\": {\n",
    "                \"type\": \"number\",\n",
    "                \"description\": \"The amount of time to add to the datetime. Can be positive (for future dates) or negative (for past dates). Defaults to 0.\",\n",
    "            },\n",
    "            \"unit\": {\n",
    "                \"type\": \"string\",\n",
    "                \"description\": \"The unit of time for the duration. Must be one of: 'seconds', 'minutes', 'hours', 'days', 'weeks', 'months', or 'years'. Defaults to 'days'.\",\n",
    "            },\n",
    "            \"input_format\": {\n",
    "                \"type\": \"string\",\n",
    "                \"description\": \"The format string for parsing the input datetime_str, using Python's strptime format codes. For example, '%Y-%m-%d' for ISO format dates like '2025-04-03'. Defaults to '%Y-%m-%d'.\",\n",
    "            },\n",
    "        },\n",
    "        \"required\": [\"datetime_str\"],\n",
    "    },\n",
    "}\n",
    "\n",
    "set_reminder_schema = {\n",
    "    \"name\": \"set_reminder\",\n",
    "    \"description\": \"Creates a timed reminder that will notify the user at the specified time with the provided content. This tool schedules a notification to be delivered to the user at the exact timestamp provided. It should be used when a user wants to be reminded about something specific at a future point in time. The reminder system will store the content and timestamp, then trigger a notification through the user's preferred notification channels (mobile alerts, email, etc.) when the specified time arrives. Reminders are persisted even if the application is closed or the device is restarted. Users can rely on this function for important time-sensitive notifications such as meetings, tasks, medication schedules, or any other time-bound activities.\",\n",
    "    \"input_schema\": {\n",
    "        \"type\": \"object\",\n",
    "        \"properties\": {\n",
    "            \"content\": {\n",
    "                \"type\": \"string\",\n",
    "                \"description\": \"The message text that will be displayed in the reminder notification. This should contain the specific information the user wants to be reminded about, such as 'Take medication', 'Join video call with team', or 'Pay utility bills'.\",\n",
    "            },\n",
    "            \"timestamp\": {\n",
    "                \"type\": \"string\",\n",
    "                \"description\": \"The exact date and time when the reminder should be triggered, formatted as an ISO 8601 timestamp (YYYY-MM-DDTHH:MM:SS) or a Unix timestamp. The system handles all timezone processing internally, ensuring reminders are triggered at the correct time regardless of where the user is located. Users can simply specify the desired time without worrying about timezone configurations.\",\n",
    "            },\n",
    "        },\n",
    "        \"required\": [\"content\", \"timestamp\"],\n",
    "    },\n",
    "}\n",
    "\n",
    "batch_tool_schema = {\n",
    "    \"name\": \"batch_tool\",\n",
    "    \"description\": \"Invoke multiple other tool calls simultaneously\",\n",
    "    \"input_schema\": {\n",
    "        \"type\": \"object\",\n",
    "        \"properties\": {\n",
    "            \"invocations\": {\n",
    "                \"type\": \"array\",\n",
    "                \"description\": \"The tool calls to invoke\",\n",
    "                \"items\": {\n",
    "                    \"type\": \"object\",\n",
    "                    \"properties\": {\n",
    "                        \"name\": {\n",
    "                            \"type\": \"string\",\n",
    "                            \"description\": \"The name of the tool to invoke\",\n",
    "                        },\n",
    "                        \"arguments\": {\n",
    "                            \"type\": \"string\",\n",
    "                            \"description\": \"The arguments to the tool, encoded as a JSON string\",\n",
    "                        },\n",
    "                    },\n",
    "                    \"required\": [\"name\", \"arguments\"],\n",
    "                },\n",
    "            }\n",
    "        },\n",
    "        \"required\": [\"invocations\"],\n",
    "    },\n",
    "}\n",
    "\n",
    "pass\n"
   ]
  },
  {
   "cell_type": "code",
   "execution_count": 40,
   "metadata": {},
   "outputs": [
    {
     "data": {
      "text/plain": [
       "'2025:07:14 12:42:34'"
      ]
     },
     "execution_count": 40,
     "metadata": {},
     "output_type": "execute_result"
    }
   ],
   "source": [
    "def get_current_datetime(date_format=\"%Y:%m:%d %H:%M:%S\"):\n",
    "    if not date_format:\n",
    "        raise ValueError(\"date_format cannot be empty\")\n",
    "    return datetime.now().strftime(date_format)\n",
    "\n",
    "get_current_datetime_schema = ToolParam({\n",
    "  \"name\": \"get_current_datetime\",\n",
    "  \"description\": \"Get the current date and time formatted according to a specified format string. Returns the current system datetime in the requested format. This tool is useful for timestamping, scheduling, logging, or any task requiring the current date/time.\",\n",
    "  \"input_schema\": {\n",
    "    \"type\": \"object\",\n",
    "    \"properties\": {\n",
    "      \"date_format\": {\n",
    "        \"type\": \"string\",\n",
    "        \"description\": \"The format string for the datetime output using Python strftime format codes. Common formats include: '%Y-%m-%d %H:%M:%S' (2024-01-15 14:30:45), '%Y-%m-%d' (2024-01-15), '%H:%M:%S' (14:30:45), '%B %d, %Y' (January 15, 2024), '%A, %B %d, %Y at %I:%M %p' (Monday, January 15, 2024 at 02:30 PM). See Python strftime documentation for all available format codes.\",\n",
    "        \"default\": \"%Y-%m-%d %H:%M:%S\",\n",
    "        \"examples\": [\n",
    "          \"%Y-%m-%d %H:%M:%S\",\n",
    "          \"%Y-%m-%d\",\n",
    "          \"%H:%M:%S\",\n",
    "          \"%B %d, %Y\",\n",
    "          \"%A, %B %d, %Y at %I:%M %p\",\n",
    "          \"%m/%d/%Y\",\n",
    "          \"%d/%m/%Y %H:%M\",\n",
    "          \"%Y%m%d_%H%M%S\"\n",
    "        ]\n",
    "      }\n",
    "    },\n",
    "    \"required\": []\n",
    "  }\n",
    "})\n",
    "\n",
    "get_current_datetime()"
   ]
  },
  {
   "cell_type": "code",
   "execution_count": 41,
   "metadata": {},
   "outputs": [
    {
     "data": {
      "text/plain": [
       "Message(id='msg_019Dy36rnntfqodri6pmYgRp', content=[TextBlock(citations=None, text=\"The current exact time formatted as %H:%M:%S would be the hours, minutes, and seconds in 24-hour format. However, I don't have access to the current time as I don't have real-time clock capabilities. \\n\\nThe %H:%M:%S format would display time as:\\n- %H: Hours in 24-hour format (00-23)\\n- %M: Minutes (00-59)\\n- %S: Seconds (00-59)\\n\\nFor example, 3:45:22 PM would be displayed as 15:45:22 in this format.\", type='text')], model='claude-3-7-sonnet-20250219', role='assistant', stop_reason='end_turn', stop_sequence=None, type='message', usage=Usage(cache_creation_input_tokens=0, cache_read_input_tokens=0, input_tokens=19, output_tokens=135, server_tool_use=None, service_tier='standard'))"
      ]
     },
     "execution_count": 41,
     "metadata": {},
     "output_type": "execute_result"
    }
   ],
   "source": [
    "messages=[]\n",
    "messages.append({\n",
    "    \"role\":\"user\",\n",
    "    \"content\":\"What is the exact time formatted %H:%M:%S\"\n",
    "})\n",
    "\n",
    "response = client.messages.create(\n",
    "    messages=messages,\n",
    "    model = model,\n",
    "    max_tokens = 1000,\n",
    ")\n",
    "response"
   ]
  },
  {
   "cell_type": "code",
   "execution_count": 42,
   "metadata": {},
   "outputs": [
    {
     "data": {
      "text/plain": [
       "Message(id='msg_01QuB5HyqvpHZbyNewpeCfT8', content=[TextBlock(citations=None, text=\"I'll get the current time for you in the requested format.\", type='text'), ToolUseBlock(id='toolu_01ErFhZMg6CqkxCQsfc6kjru', input={'date_format': '%H:%M:%S'}, name='get_current_datetime', type='tool_use')], model='claude-3-7-sonnet-20250219', role='assistant', stop_reason='tool_use', stop_sequence=None, type='message', usage=Usage(cache_creation_input_tokens=0, cache_read_input_tokens=0, input_tokens=675, output_tokens=76, server_tool_use=None, service_tier='standard'))"
      ]
     },
     "execution_count": 42,
     "metadata": {},
     "output_type": "execute_result"
    }
   ],
   "source": [
    "messages=[]\n",
    "messages.append({\n",
    "    \"role\":\"user\",\n",
    "    \"content\":\"What is the exact time formatted %H:%M:%S\"\n",
    "})\n",
    "\n",
    "response = client.messages.create(\n",
    "    messages=messages,\n",
    "    model = model,\n",
    "    max_tokens = 1000,\n",
    "    tools=[get_current_datetime_schema,]\n",
    ")\n",
    "response"
   ]
  },
  {
   "cell_type": "code",
   "execution_count": 43,
   "metadata": {},
   "outputs": [
    {
     "data": {
      "text/plain": [
       "'12:42:38'"
      ]
     },
     "execution_count": 43,
     "metadata": {},
     "output_type": "execute_result"
    }
   ],
   "source": [
    "get_current_datetime(**response.content[1].input)"
   ]
  },
  {
   "cell_type": "code",
   "execution_count": 44,
   "metadata": {},
   "outputs": [],
   "source": [
    "messages.append({\n",
    "    \"role\": \"assistant\",\n",
    "    \"content\": response.content\n",
    "})\n",
    "\n",
    "messages.append({\n",
    "    \"role\":\"user\",\n",
    "    \"content\":[{\n",
    "        \"type\":\"tool_result\",\n",
    "        \"tool_use_id\":response.content[1].id,\n",
    "        \"content\":\"10:14:28\",\n",
    "        \"is_error\":False,\n",
    "    }]\n",
    "})\n"
   ]
  },
  {
   "cell_type": "code",
   "execution_count": 45,
   "metadata": {},
   "outputs": [
    {
     "data": {
      "text/plain": [
       "'toolu_01ErFhZMg6CqkxCQsfc6kjru'"
      ]
     },
     "execution_count": 45,
     "metadata": {},
     "output_type": "execute_result"
    }
   ],
   "source": [
    "response.content[1].id"
   ]
  },
  {
   "cell_type": "code",
   "execution_count": 46,
   "metadata": {},
   "outputs": [
    {
     "data": {
      "text/plain": [
       "[{'role': 'user', 'content': 'What is the exact time formatted %H:%M:%S'},\n",
       " {'role': 'assistant',\n",
       "  'content': [TextBlock(citations=None, text=\"I'll get the current time for you in the requested format.\", type='text'),\n",
       "   ToolUseBlock(id='toolu_01ErFhZMg6CqkxCQsfc6kjru', input={'date_format': '%H:%M:%S'}, name='get_current_datetime', type='tool_use')]},\n",
       " {'role': 'user',\n",
       "  'content': [{'type': 'tool_result',\n",
       "    'tool_use_id': 'toolu_01ErFhZMg6CqkxCQsfc6kjru',\n",
       "    'content': '10:14:28',\n",
       "    'is_error': False}]}]"
      ]
     },
     "execution_count": 46,
     "metadata": {},
     "output_type": "execute_result"
    }
   ],
   "source": [
    "messages"
   ]
  },
  {
   "cell_type": "code",
   "execution_count": 47,
   "metadata": {},
   "outputs": [
    {
     "data": {
      "text/plain": [
       "Message(id='msg_0186CK6egQEkQdm5QuP2dWws', content=[TextBlock(citations=None, text='The current time is 10:14:28 in the %H:%M:%S format (hours:minutes:seconds in 24-hour notation).', type='text')], model='claude-3-7-sonnet-20250219', role='assistant', stop_reason='end_turn', stop_sequence=None, type='message', usage=Usage(cache_creation_input_tokens=0, cache_read_input_tokens=0, input_tokens=767, output_tokens=37, server_tool_use=None, service_tier='standard'))"
      ]
     },
     "execution_count": 47,
     "metadata": {},
     "output_type": "execute_result"
    }
   ],
   "source": [
    "response2 = client.messages.create(\n",
    "    model=model,\n",
    "    max_tokens=1000,\n",
    "    messages=messages,\n",
    "    tools=[get_current_datetime_schema],\n",
    ")\n",
    "response2"
   ]
  },
  {
   "cell_type": "code",
   "execution_count": 48,
   "metadata": {},
   "outputs": [
    {
     "data": {
      "text/plain": [
       "[{'role': 'user', 'content': 'What is the exact time formatted %H:%M:%S'},\n",
       " {'role': 'assistant',\n",
       "  'content': [TextBlock(citations=None, text=\"I'll get the current time for you in the requested format.\", type='text'),\n",
       "   ToolUseBlock(id='toolu_01RjBZhFHMqicGYgz9pxvhi9', input={'date_format': '%H:%M:%S'}, name='get_current_datetime', type='tool_use')]}]"
      ]
     },
     "execution_count": 48,
     "metadata": {},
     "output_type": "execute_result"
    }
   ],
   "source": [
    "messages=[]\n",
    "add_user_message(messages, \"What is the exact time formatted %H:%M:%S\")\n",
    "\n",
    "response = client.messages.create(\n",
    "    messages=messages,\n",
    "    model = model,\n",
    "    max_tokens = 1000,\n",
    "    tools=[get_current_datetime_schema,]\n",
    ")\n",
    "add_assistant_message(messages, response.content)\n",
    "\n",
    "messages"
   ]
  },
  {
   "cell_type": "code",
   "execution_count": 49,
   "metadata": {},
   "outputs": [
    {
     "data": {
      "text/plain": [
       "Message(id='msg_01WPWNrECVfuw6oP7SZCPxcK', content=[TextBlock(citations=None, text=\"I'll get the current time for you in the requested format.\", type='text'), ToolUseBlock(id='toolu_01RjBZhFHMqicGYgz9pxvhi9', input={'date_format': '%H:%M:%S'}, name='get_current_datetime', type='tool_use')], model='claude-3-7-sonnet-20250219', role='assistant', stop_reason='tool_use', stop_sequence=None, type='message', usage=Usage(cache_creation_input_tokens=0, cache_read_input_tokens=0, input_tokens=675, output_tokens=76, server_tool_use=None, service_tier='standard'))"
      ]
     },
     "execution_count": 49,
     "metadata": {},
     "output_type": "execute_result"
    }
   ],
   "source": [
    "response"
   ]
  },
  {
   "cell_type": "code",
   "execution_count": 50,
   "metadata": {},
   "outputs": [],
   "source": [
    "def run_batch(invocations=[]):\n",
    "    batch_output = []\n",
    "    \n",
    "    for invocation in invocations:\n",
    "        name = invocation[\"name\"]\n",
    "        args = json.loads(invocation[\"arguments\"])\n",
    "        \n",
    "        tool_output = run_tool(name, args)\n",
    "        \n",
    "        batch_output.append({\n",
    "            \"tool_name\": name,\n",
    "            \"output\": tool_output\n",
    "        })\n",
    "    \n",
    "    return batch_output\n",
    "\n",
    "def run_tool(tool_name, tool_input):\n",
    "    if tool_name == \"get_current_datetime\":\n",
    "        return get_current_datetime(**tool_input)\n",
    "    elif tool_name == \"add_duration_to_datetime\":\n",
    "        return add_duration_to_datetime(**tool_input)\n",
    "    elif tool_name == \"set_reminder\":\n",
    "        return set_reminder(**tool_input)\n",
    "    elif tool_name == \"run_batch\":\n",
    "        return set_reminder(**tool_input)\n",
    "        \n",
    "def run_tools(message):\n",
    "    tool_requests = [\n",
    "        block for block in message.content if block.type == \"tool_use\"\n",
    "    ]\n",
    "\n",
    "    tool_result_blocks = []\n",
    "    \n",
    "    for request in tool_requests:\n",
    "        try:\n",
    "            output = run_tool(request.name, request.input)\n",
    "    \n",
    "            response = {\n",
    "                        \"type\":\"tool_result\",\n",
    "                        \"tool_use_id\":request.id,\n",
    "                        \"content\":json.dumps(output),\n",
    "                        \"is_error\":False,\n",
    "            }\n",
    "        except Exception as e:\n",
    "            response = {\n",
    "                        \"type\":\"tool_result\",\n",
    "                        \"tool_use_id\":request.id,\n",
    "                        \"content\":f\"Error: {e}\",\n",
    "                        \"is_error\":True,\n",
    "            }\n",
    "        tool_result_blocks.append(response)\n",
    "    return tool_result_blocks"
   ]
  },
  {
   "cell_type": "code",
   "execution_count": 51,
   "metadata": {},
   "outputs": [],
   "source": [
    "def run_conversation(messages):\n",
    "    while True:\n",
    "        response = chat(messages, tools=[get_current_datetime_schema])\n",
    "        add_assistant_message(messages, response)\n",
    "        print(text_from_message(response))\n",
    "        \n",
    "        if response.stop_reason != \"tool_use\":\n",
    "            break\n",
    "            \n",
    "        tool_results = run_tools(response)\n",
    "        add_user_message(messages, tool_results)\n",
    "    return messages"
   ]
  },
  {
   "cell_type": "code",
   "execution_count": 52,
   "metadata": {},
   "outputs": [],
   "source": [
    "messages=[]\n",
    "add_user_message(messages, \"What is the current time in HH:MM format? What is the current time in SS format?\")"
   ]
  },
  {
   "cell_type": "code",
   "execution_count": 53,
   "metadata": {},
   "outputs": [
    {
     "name": "stdout",
     "output_type": "stream",
     "text": [
      "I can help you get the current time in the formats you requested. Let me use the available tool to get that information for you.\n",
      "\n",
      "The current time in HH:MM format is 12:42.\n",
      "The current time in SS format (seconds only) is 47.\n"
     ]
    },
    {
     "data": {
      "text/plain": [
       "[{'role': 'user',\n",
       "  'content': 'What is the current time in HH:MM format? What is the current time in SS format?'},\n",
       " {'role': 'assistant',\n",
       "  'content': [TextBlock(citations=None, text='I can help you get the current time in the formats you requested. Let me use the available tool to get that information for you.', type='text'),\n",
       "   ToolUseBlock(id='toolu_011L3xQDNzENLdzYxEnAjUdf', input={'date_format': '%H:%M'}, name='get_current_datetime', type='tool_use')]},\n",
       " {'role': 'user',\n",
       "  'content': [{'type': 'tool_result',\n",
       "    'tool_use_id': 'toolu_011L3xQDNzENLdzYxEnAjUdf',\n",
       "    'content': '\"12:42\"',\n",
       "    'is_error': False}]},\n",
       " {'role': 'assistant',\n",
       "  'content': [ToolUseBlock(id='toolu_01NTQ1Ef6U2xM9W75AbxAJuW', input={'date_format': '%S'}, name='get_current_datetime', type='tool_use')]},\n",
       " {'role': 'user',\n",
       "  'content': [{'type': 'tool_result',\n",
       "    'tool_use_id': 'toolu_01NTQ1Ef6U2xM9W75AbxAJuW',\n",
       "    'content': '\"47\"',\n",
       "    'is_error': False}]},\n",
       " {'role': 'assistant',\n",
       "  'content': [TextBlock(citations=None, text='The current time in HH:MM format is 12:42.\\nThe current time in SS format (seconds only) is 47.', type='text')]}]"
      ]
     },
     "execution_count": 53,
     "metadata": {},
     "output_type": "execute_result"
    }
   ],
   "source": [
    "run_conversation(messages)"
   ]
  },
  {
   "cell_type": "code",
   "execution_count": null,
   "metadata": {},
   "outputs": [],
   "source": []
  },
  {
   "cell_type": "code",
   "execution_count": 54,
   "metadata": {},
   "outputs": [],
   "source": [
    "def run_conversation(messages):\n",
    "    while True:\n",
    "        response = chat(\n",
    "            messages,\n",
    "            tools=[\n",
    "                get_current_datetime_schema,\n",
    "                add_duration_to_datetime_schema,\n",
    "                set_reminder_schema,\n",
    "            ],\n",
    "        )\n",
    "\n",
    "        add_assistant_message(messages, response)\n",
    "        print(text_from_message(response))\n",
    "\n",
    "        if response.stop_reason != \"tool_use\":\n",
    "            break\n",
    "\n",
    "        tool_results = run_tools(response)\n",
    "        add_user_message(messages, tool_results)\n",
    "\n",
    "    return messages"
   ]
  },
  {
   "cell_type": "code",
   "execution_count": 55,
   "metadata": {},
   "outputs": [
    {
     "name": "stdout",
     "output_type": "stream",
     "text": [
      "I'll help you set a reminder for your doctor's appointment. First, I need to calculate the exact date that is 177 days after January 1st, 2050, and then I can set the reminder for you.\n",
      "Now I'll set a reminder for your doctor's appointment on that date:\n",
      "----\n",
      "Setting the following reminder for 2050-06-27T00:00:00:\n",
      "Doctor's appointment\n",
      "----\n",
      "I've set a reminder for your doctor's appointment on Monday, June 27, 2050. The reminder is scheduled for midnight (12:00 AM) on that date. If you'd like to adjust the specific time of your appointment reminder, just let me know.\n"
     ]
    },
    {
     "data": {
      "text/plain": [
       "[{'role': 'user',\n",
       "  'content': 'Set a reminder for my doctors appointment. Its 177 days after Jan 1st, 2050.'},\n",
       " {'role': 'assistant',\n",
       "  'content': [TextBlock(citations=None, text=\"I'll help you set a reminder for your doctor's appointment. First, I need to calculate the exact date that is 177 days after January 1st, 2050, and then I can set the reminder for you.\", type='text'),\n",
       "   ToolUseBlock(id='toolu_018x6FrW8krroBicop1Xa1RU', input={'datetime_str': '2050-01-01', 'duration': 177, 'input_format': '%Y-%m-%d', 'unit': 'days'}, name='add_duration_to_datetime', type='tool_use')]},\n",
       " {'role': 'user',\n",
       "  'content': [{'type': 'tool_result',\n",
       "    'tool_use_id': 'toolu_018x6FrW8krroBicop1Xa1RU',\n",
       "    'content': '\"Monday, June 27, 2050 12:00:00 AM\"',\n",
       "    'is_error': False}]},\n",
       " {'role': 'assistant',\n",
       "  'content': [TextBlock(citations=None, text=\"Now I'll set a reminder for your doctor's appointment on that date:\", type='text'),\n",
       "   ToolUseBlock(id='toolu_01U8MB2McCUGPdywJQBGydPv', input={'content': \"Doctor's appointment\", 'timestamp': '2050-06-27T00:00:00'}, name='set_reminder', type='tool_use')]},\n",
       " {'role': 'user',\n",
       "  'content': [{'type': 'tool_result',\n",
       "    'tool_use_id': 'toolu_01U8MB2McCUGPdywJQBGydPv',\n",
       "    'content': 'null',\n",
       "    'is_error': False}]},\n",
       " {'role': 'assistant',\n",
       "  'content': [TextBlock(citations=None, text=\"I've set a reminder for your doctor's appointment on Monday, June 27, 2050. The reminder is scheduled for midnight (12:00 AM) on that date. If you'd like to adjust the specific time of your appointment reminder, just let me know.\", type='text')]}]"
      ]
     },
     "execution_count": 55,
     "metadata": {},
     "output_type": "execute_result"
    }
   ],
   "source": [
    "messages = []\n",
    "add_user_message(\n",
    "    messages,\n",
    "    \"Set a reminder for my doctors appointment. Its 177 days after Jan 1st, 2050.\",\n",
    ")\n",
    "run_conversation(messages)"
   ]
  },
  {
   "cell_type": "code",
   "execution_count": 56,
   "metadata": {},
   "outputs": [],
   "source": [
    "\n",
    "def run_conversation(messages):\n",
    "    while True:\n",
    "        response = chat(\n",
    "            messages,\n",
    "            tools=[\n",
    "                get_current_datetime_schema,\n",
    "                add_duration_to_datetime_schema,\n",
    "                set_reminder_schema,\n",
    "                batch_tool_schema,\n",
    "            ],\n",
    "        )\n",
    "\n",
    "        add_assistant_message(messages, response)\n",
    "        print(text_from_message(response))\n",
    "\n",
    "        if response.stop_reason != \"tool_use\":\n",
    "            break\n",
    "\n",
    "        tool_results = run_tools(response)\n",
    "        add_user_message(messages, tool_results)\n",
    "\n",
    "    return messages"
   ]
  },
  {
   "cell_type": "code",
   "execution_count": 57,
   "metadata": {},
   "outputs": [
    {
     "name": "stdout",
     "output_type": "stream",
     "text": [
      "I'll set two reminders for you on December 1st, 2028 at 8:00 AM - one for your dentist appointment and another for your taxes being due.\n",
      "\n",
      "First, let me confirm the date and format it properly for the reminders:\n",
      "Great! I've set both reminders for December 1st, 2028 at 8:00 AM:\n",
      "\n",
      "1. Dentist appointment\n",
      "2. Taxes are due\n",
      "\n",
      "You'll receive notifications for both reminders at that time. Is there anything else you'd like me to help you with?\n"
     ]
    },
    {
     "data": {
      "text/plain": [
       "[{'role': 'user',\n",
       "  'content': 'Set two appointments for me on Dec 1st 2028 at 8am. I have a dentist appointment and taxes are due.'},\n",
       " {'role': 'assistant',\n",
       "  'content': [TextBlock(citations=None, text=\"I'll set two reminders for you on December 1st, 2028 at 8:00 AM - one for your dentist appointment and another for your taxes being due.\\n\\nFirst, let me confirm the date and format it properly for the reminders:\", type='text'),\n",
       "   ToolUseBlock(id='toolu_01P5d6qKosUWW9xoPaYUGmcZ', input={'invocations': [{'name': 'set_reminder', 'arguments': '{\"content\": \"Dentist appointment\", \"timestamp\": \"2028-12-01T08:00:00\"}'}, {'name': 'set_reminder', 'arguments': '{\"content\": \"Taxes are due\", \"timestamp\": \"2028-12-01T08:00:00\"}'}]}, name='batch_tool', type='tool_use')]},\n",
       " {'role': 'user',\n",
       "  'content': [{'type': 'tool_result',\n",
       "    'tool_use_id': 'toolu_01P5d6qKosUWW9xoPaYUGmcZ',\n",
       "    'content': 'null',\n",
       "    'is_error': False}]},\n",
       " {'role': 'assistant',\n",
       "  'content': [TextBlock(citations=None, text=\"Great! I've set both reminders for December 1st, 2028 at 8:00 AM:\\n\\n1. Dentist appointment\\n2. Taxes are due\\n\\nYou'll receive notifications for both reminders at that time. Is there anything else you'd like me to help you with?\", type='text')]}]"
      ]
     },
     "execution_count": 57,
     "metadata": {},
     "output_type": "execute_result"
    }
   ],
   "source": [
    "messages = []\n",
    "add_user_message(\n",
    "    messages,\n",
    "    \"Set two appointments for me on Dec 1st 2028 at 8am. I have a dentist appointment and taxes are due.\",\n",
    ")\n",
    "run_conversation(messages)"
   ]
  },
  {
   "cell_type": "code",
   "execution_count": 70,
   "metadata": {},
   "outputs": [
    {
     "data": {
      "text/plain": [
       "\"# The Evolution of Computational Paradigms in Modern Computer Science\\n\\n**By Dr. Eleanor J. Thornfield**\\n\\nThe field of computer science has undergone remarkable transformations since its formal inception in the mid-20th century, evolving from a discipline primarily concerned with hardware optimization and algorithmic efficiency to a multifaceted domain that intersects with virtually every aspect of human endeavor. Contemporary computational paradigms have shifted significantly toward distributed systems, quantum computing architectures, and machine learning frameworks that challenge traditional von Neumann computing models. These developments have necessitated fundamental reconsiderations of computational complexity theory, particularly as researchers grapple with problems that resist classification within the conventional P versus NP framework. The emergence of neuromorphic computing, inspired by biological neural networks, further exemplifies the field's trajectory toward biomimetic approaches that may ultimately transcend the limitations of silicon-based computing. As these parallel research streams converge, computer scientists increasingly find themselves addressing not only technical challenges but also the profound ethical implications of autonomous systems, privacy preservation in interconnected environments, and the societal impacts of algorithmic decision-making—underscoring the discipline's evolution from a purely technical pursuit to one that necessarily engages with broader humanistic concerns.\""
      ]
     },
     "execution_count": 70,
     "metadata": {},
     "output_type": "execute_result"
    }
   ],
   "source": [
    "messages = []\n",
    "add_user_message(\n",
    "    messages,\n",
    "    \"\"\"\n",
    "    Write a one-paragraph scholarly article about computer science. \n",
    "    Include a title and author name.\n",
    "    \"\"\",\n",
    ")\n",
    "response = chat(messages)\n",
    "text_from_message(response)"
   ]
  },
  {
   "cell_type": "code",
   "execution_count": 71,
   "metadata": {},
   "outputs": [
    {
     "data": {
      "text/plain": [
       "{'title': 'The Evolution of Computational Paradigms in Modern Computer Science',\n",
       " 'author': 'Dr. Eleanor J. Thornfield',\n",
       " 'key_insights': ['Computer science has transformed from focusing primarily on hardware optimization and algorithmic efficiency to becoming a multifaceted domain intersecting with virtually all aspects of human endeavor.',\n",
       "  'Contemporary computational paradigms have shifted toward distributed systems, quantum computing architectures, and machine learning frameworks that challenge traditional von Neumann computing models.',\n",
       "  \"Recent developments have necessitated fundamental reconsiderations of computational complexity theory, especially for problems that don't fit within the conventional P versus NP framework.\",\n",
       "  \"Neuromorphic computing, inspired by biological neural networks, exemplifies the field's movement toward biomimetic approaches that may transcend silicon-based computing limitations.\",\n",
       "  'Computer scientists now address not only technical challenges but also ethical implications of autonomous systems, privacy preservation, and societal impacts of algorithmic decision-making.',\n",
       "  'The discipline has evolved from a purely technical pursuit to one that necessarily engages with broader humanistic concerns.']}"
      ]
     },
     "execution_count": 71,
     "metadata": {},
     "output_type": "execute_result"
    }
   ],
   "source": [
    "messages = []\n",
    "add_user_message(messages,text_from_message(response)\n",
    ")\n",
    "response = chat(\n",
    "    messages,\n",
    "    tools=[article_summary_schema],\n",
    "    tool_choice={\"type\": \"tool\", \"name\": \"article_summary\"}\n",
    ")\n",
    "structured_data = response.content[0].input\n",
    "structured_data"
   ]
  },
  {
   "cell_type": "code",
   "execution_count": null,
   "metadata": {},
   "outputs": [],
   "source": []
  },
  {
   "cell_type": "code",
   "execution_count": null,
   "metadata": {},
   "outputs": [],
   "source": []
  },
  {
   "cell_type": "code",
   "execution_count": null,
   "metadata": {},
   "outputs": [],
   "source": []
  },
  {
   "cell_type": "code",
   "execution_count": null,
   "metadata": {},
   "outputs": [],
   "source": []
  }
 ],
 "metadata": {
  "kernelspec": {
   "display_name": "Python 3 (ipykernel)",
   "language": "python",
   "name": "python3"
  },
  "language_info": {
   "codemirror_mode": {
    "name": "ipython",
    "version": 3
   },
   "file_extension": ".py",
   "mimetype": "text/x-python",
   "name": "python",
   "nbconvert_exporter": "python",
   "pygments_lexer": "ipython3",
   "version": "3.12.2"
  }
 },
 "nbformat": 4,
 "nbformat_minor": 4
}
