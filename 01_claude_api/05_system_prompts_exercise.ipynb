{
 "cells": [
  {
   "cell_type": "code",
   "execution_count": 1,
   "id": "531088b0-9412-4eb0-ab26-aa17560cd49d",
   "metadata": {},
   "outputs": [],
   "source": [
    "from dotenv import load_dotenv\n",
    "from anthropic import Anthropic\n",
    "\n",
    "load_dotenv()\n",
    "client = Anthropic()\n",
    "model = \"claude-sonnet-4-0\""
   ]
  },
  {
   "cell_type": "code",
   "execution_count": 9,
   "id": "6460913d-f426-466d-b2f4-1b8bc8df6929",
   "metadata": {},
   "outputs": [],
   "source": [
    "def add_user_message(messages, text):\n",
    "    messages.append({\"role\": \"user\", \"content\": text})\n",
    "    return messages\n",
    "\n",
    "def add_assistent_mesaages(messages, text):\n",
    "    messages.append({\"role\": \"assistant\", \"content\": text})\n",
    "    return messages\n",
    "\n",
    "def chat(messages, system=None):\n",
    "    params = {\n",
    "            \"model\": model,\n",
    "            \"max_tokens\": 1000,\n",
    "            \"messages\": messages,\n",
    "    }\n",
    "    if system:\n",
    "        params[\"system\"] = system\n",
    "\n",
    "    message = client.messages.create(\n",
    "        **params\n",
    "    )\n",
    "    return message.content[0].text\n"
   ]
  },
  {
   "cell_type": "code",
   "execution_count": 4,
   "id": "e6beda36-b076-4db7-9d07-7b95f6760d8d",
   "metadata": {},
   "outputs": [
    {
     "data": {
      "text/plain": [
       "'Here are several Python functions to check for duplicate strings, depending on your specific needs:\\n\\n## 1. Basic Function - Check if ANY duplicates exist\\n\\n```python\\ndef has_duplicates(strings):\\n    \"\"\"\\n    Check if there are any duplicate strings in a list.\\n    \\n    Args:\\n        strings: List of strings to check\\n        \\n    Returns:\\n        bool: True if duplicates exist, False otherwise\\n    \"\"\"\\n    return len(strings) != len(set(strings))\\n\\n# Example usage\\nstrings1 = [\"apple\", \"banana\", \"apple\", \"orange\"]\\nstrings2 = [\"apple\", \"banana\", \"orange\"]\\n\\nprint(has_duplicates(strings1))  # True\\nprint(has_duplicates(strings2))  # False\\n```\\n\\n## 2. Find All Duplicate Strings\\n\\n```python\\ndef find_duplicates(strings):\\n    \"\"\"\\n    Find all duplicate strings in a list.\\n    \\n    Args:\\n        strings: List of strings to check\\n        \\n    Returns:\\n        set: Set of strings that appear more than once\\n    \"\"\"\\n    seen = set()\\n    duplicates = set()\\n    \\n    for string in strings:\\n        if string in seen:\\n            duplicates.add(string)\\n        else:\\n            seen.add(string)\\n    \\n    return duplicates\\n\\n# Example usage\\nstrings = [\"apple\", \"banana\", \"apple\", \"orange\", \"banana\", \"grape\"]\\nduplicates = find_duplicates(strings)\\nprint(duplicates)  # {\\'apple\\', \\'banana\\'}\\n```\\n\\n## 3. Count Occurrences of Each String\\n\\n```python\\ndef count_duplicates(strings):\\n    \"\"\"\\n    Count occurrences of each string and return duplicates with their counts.\\n    \\n    Args:\\n        strings: List of strings to check\\n        \\n    Returns:\\n        dict: Dictionary with duplicate strings as keys and counts as values\\n    \"\"\"\\n    from collections import Counter\\n    \\n    counts = Counter(strings)\\n    return {string: count for string, count in counts.items() if count > 1}\\n\\n# Example usage\\nstrings = [\"apple\", \"banana\", \"apple\", \"orange\", \"banana\", \"apple\"]\\nduplicate_counts = count_duplicates(strings)\\nprint(duplicate_counts)  # {\\'apple\\': 3, \\'banana\\': 2}\\n```\\n\\n## 4. Case-Insensitive Duplicate Check\\n\\n```python\\ndef has_duplicates_case_insensitive(strings):\\n    \"\"\"\\n    Check for duplicates ignoring case sensitivity.\\n    \\n    Args:\\n        strings: List of strings to check\\n        \\n    Returns:\\n        bool: True if duplicates exist (case-insensitive), False otherwise\\n    \"\"\"\\n    lower_strings = [s.lower() for s in strings]\\n    return len(lower_strings) != len(set(lower_strings))\\n\\n# Example usage\\nstrings = [\"Apple\", \"banana\", \"APPLE\", \"Orange\"]\\nprint(has_duplicates_case_insensitive(strings))  # True\\n```\\n\\n## 5. Comprehensive Function with Options\\n\\n```python\\ndef check_duplicates(strings, case_sensitive=True, return_type=\\'boolean\\'):\\n    \"\"\"\\n    Comprehensive function to check for duplicate strings with various options.\\n    \\n    Args:\\n        strings: List of strings to check\\n        case_sensitive: Whether to consider case when checking duplicates\\n        return_type: \\'boolean\\', \\'list\\', or \\'count\\'\\n        \\n    Returns:\\n        bool/list/dict: Based on return_type parameter\\n    \"\"\"\\n    if not case_sensitive:\\n        processed_strings = [s.lower() for s in strings]\\n    else:\\n        processed_strings = strings\\n    \\n    if return_type == \\'boolean\\':\\n        return len(processed_strings) != len(set(processed_strings))\\n    \\n    elif return_type == \\'list\\':\\n        seen = set()\\n        duplicates = set()\\n        for string in processed_strings:\\n            if string in seen:\\n                duplicates.add(string)\\n            else:\\n                seen.add(string)\\n        return list(duplicates)\\n    \\n    elif return_type == \\'count\\':\\n        from collections import Counter\\n        counts = Counter(processed_strings)\\n        return {string: count for string, count'"
      ]
     },
     "execution_count": 4,
     "metadata": {},
     "output_type": "execute_result"
    }
   ],
   "source": [
    "messages=[]\n",
    "\n",
    "add_user_message(\n",
    "                messages, \n",
    "                \"Write a python function that checks for duplicate strings\"\n",
    ")\n",
    "\n",
    "answer = chat(messages)\n",
    "answer"
   ]
  },
  {
   "cell_type": "code",
   "execution_count": 11,
   "id": "48325c99-d395-4c8b-8f75-f2f3d85863c2",
   "metadata": {},
   "outputs": [
    {
     "data": {
      "text/plain": [
       "'```python\\ndef has_duplicates(strings):\\n    return len(strings) != len(set(strings))\\n```'"
      ]
     },
     "execution_count": 11,
     "metadata": {},
     "output_type": "execute_result"
    }
   ],
   "source": [
    "messages=[]\n",
    "system = \"You are a coding agent that provides very concisecode without explanation\"\n",
    "add_user_message(\n",
    "                messages, \n",
    "                \"Write a python function that checks for duplicate strings\"\n",
    ")\n",
    "\n",
    "answer = chat(messages, system=system)\n",
    "answer"
   ]
  },
  {
   "cell_type": "code",
   "execution_count": null,
   "id": "ab73ee6b-242d-4ca7-b4ca-671d86f9af89",
   "metadata": {},
   "outputs": [],
   "source": []
  }
 ],
 "metadata": {
  "kernelspec": {
   "display_name": "Python 3 (ipykernel)",
   "language": "python",
   "name": "python3"
  },
  "language_info": {
   "codemirror_mode": {
    "name": "ipython",
    "version": 3
   },
   "file_extension": ".py",
   "mimetype": "text/x-python",
   "name": "python",
   "nbconvert_exporter": "python",
   "pygments_lexer": "ipython3",
   "version": "3.12.2"
  }
 },
 "nbformat": 4,
 "nbformat_minor": 5
}
