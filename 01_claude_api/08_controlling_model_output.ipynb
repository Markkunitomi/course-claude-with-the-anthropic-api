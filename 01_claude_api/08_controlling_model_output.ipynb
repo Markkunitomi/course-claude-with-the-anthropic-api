{
 "cells": [
  {
   "cell_type": "code",
   "execution_count": 2,
   "id": "a14d3e3c-df16-4b6d-ae51-dfb222b36e44",
   "metadata": {},
   "outputs": [],
   "source": [
    "from dotenv import load_dotenv\n",
    "from anthropic import Anthropic\n",
    "\n",
    "load_dotenv()\n",
    "client = Anthropic()\n",
    "model = \"claude-sonnet-4-0\""
   ]
  },
  {
   "cell_type": "code",
   "execution_count": 6,
   "id": "245803f2-6524-4eee-be87-8ea590f192b7",
   "metadata": {},
   "outputs": [],
   "source": [
    "def add_user_message(messages, text):\n",
    "    messages.append({\"role\": \"user\", \"content\": text})\n",
    "    return messages\n",
    "\n",
    "def add_assistent_mesaages(messages, text):\n",
    "    messages.append({\"role\": \"assistant\", \"content\": text})\n",
    "    return messages\n",
    "\n",
    "def chat(messages, system=None, temperature=1.0, stop_sequences=[]):\n",
    "    params = {\n",
    "            \"model\": model,\n",
    "            \"max_tokens\": 1000,\n",
    "            \"messages\": messages,\n",
    "            \"temperature\":temperature,\n",
    "            \"stop_sequences\":stop_sequences,\n",
    "    }\n",
    "    if system:\n",
    "        params[\"system\"] = system\n",
    "\n",
    "    message = client.messages.create(\n",
    "        **params\n",
    "    )\n",
    "    return message.content[0].text\n"
   ]
  },
  {
   "cell_type": "code",
   "execution_count": 4,
   "id": "0e075e32-87cf-48c0-81fd-ac2727bb802c",
   "metadata": {},
   "outputs": [
    {
     "data": {
      "text/plain": [
       "'Both coffee and tea can be great with breakfast - it really depends on your personal preferences and needs:\\n\\n**Coffee might be better if you:**\\n- Want a stronger caffeine boost to wake up\\n- Enjoy bolder, more robust flavors\\n- Like pairing it with heartier breakfast foods\\n- Prefer the ritual of brewing espresso or drip coffee\\n\\n**Tea might be better if you:**\\n- Want a gentler caffeine lift (or none at all with herbal teas)\\n- Prefer lighter, more subtle flavors\\n- Have a sensitive stomach (tea is generally less acidic)\\n- Enjoy the variety of flavors available\\n\\n**Consider your breakfast too:**\\n- Rich, heavy foods often pair well with coffee\\'s boldness\\n- Lighter fare like pastries or fruit might complement tea nicely\\n- Cultural pairings (like English breakfast tea with a full breakfast) can enhance the experience\\n\\nThe \"better\" choice is really about what makes you feel good and enjoy your morning routine. Some people even alternate between both depending on their mood or the meal!'"
      ]
     },
     "execution_count": 4,
     "metadata": {},
     "output_type": "execute_result"
    }
   ],
   "source": [
    "messages=[]\n",
    "add_user_message(messages, \"Is coffee or tea better with breakfast?\")\n",
    "\n",
    "answer = chat(messages)\n",
    "answer"
   ]
  },
  {
   "cell_type": "code",
   "execution_count": 5,
   "id": "a768f53e-29fa-4573-9fc4-994e1c757796",
   "metadata": {},
   "outputs": [
    {
     "data": {
      "text/plain": [
       "\" it has more caffeine and energy, and you usually need more energy in the morning to start your day. It has a sharper, more bitter taste, which helps wake you up.\\n\\nTea is gentler and more relaxing, so while it's still good for breakfast, it's a bit more soothing. Some people actually prefer this to coffee because it's less harsh on the stomach.\\n\\nBoth pair well with breakfast foods, but coffee is typically the more popular choice in the morning.\""
      ]
     },
     "execution_count": 5,
     "metadata": {},
     "output_type": "execute_result"
    }
   ],
   "source": [
    "messages=[]\n",
    "add_user_message(messages, \"Is coffee or tea better with breakfast?\")\n",
    "add_assistent_mesaages(messages, \"Coffee is better because\")\n",
    "answer = chat(messages)\n",
    "answer"
   ]
  },
  {
   "cell_type": "code",
   "execution_count": 7,
   "id": "bfa3d371-da51-4bc4-9b94-ec460e0545e2",
   "metadata": {},
   "outputs": [
    {
     "data": {
      "text/plain": [
       "'1, 2, 3, 4, 5, 6, 7, 8, 9, 10'"
      ]
     },
     "execution_count": 7,
     "metadata": {},
     "output_type": "execute_result"
    }
   ],
   "source": [
    "messages=[]\n",
    "add_user_message(messages, \"Count from one to ten\")\n",
    "answer = chat(messages)\n",
    "answer"
   ]
  },
  {
   "cell_type": "code",
   "execution_count": 8,
   "id": "2b86bf86-29ab-47f0-8834-bff11089f6b4",
   "metadata": {},
   "outputs": [
    {
     "data": {
      "text/plain": [
       "'1, 2, 3, 4, '"
      ]
     },
     "execution_count": 8,
     "metadata": {},
     "output_type": "execute_result"
    }
   ],
   "source": [
    "messages=[]\n",
    "add_user_message(messages, \"Count from one to ten\")\n",
    "answer = chat(messages, stop_sequences=[\"5\"])\n",
    "answer"
   ]
  },
  {
   "cell_type": "code",
   "execution_count": null,
   "id": "5d0209b2-a7b7-46ec-aa56-95a75c7d2025",
   "metadata": {},
   "outputs": [],
   "source": []
  }
 ],
 "metadata": {
  "kernelspec": {
   "display_name": "Python 3 (ipykernel)",
   "language": "python",
   "name": "python3"
  },
  "language_info": {
   "codemirror_mode": {
    "name": "ipython",
    "version": 3
   },
   "file_extension": ".py",
   "mimetype": "text/x-python",
   "name": "python",
   "nbconvert_exporter": "python",
   "pygments_lexer": "ipython3",
   "version": "3.12.2"
  }
 },
 "nbformat": 4,
 "nbformat_minor": 5
}
