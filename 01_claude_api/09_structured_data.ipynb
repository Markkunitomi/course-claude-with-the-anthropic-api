{
 "cells": [
  {
   "cell_type": "code",
   "execution_count": 2,
   "id": "0b068609-a026-4f8a-9f30-5273f276648e",
   "metadata": {},
   "outputs": [],
   "source": [
    "from dotenv import load_dotenv\n",
    "from anthropic import Anthropic\n",
    "\n",
    "load_dotenv()\n",
    "client = Anthropic()\n",
    "model = \"claude-sonnet-4-0\"\n"
   ]
  },
  {
   "cell_type": "code",
   "execution_count": 3,
   "id": "7ee64aa7-abff-405e-8599-e0457837378a",
   "metadata": {},
   "outputs": [],
   "source": [
    "def add_user_message(messages, text):\n",
    "    messages.append({\"role\": \"user\", \"content\": text})\n",
    "    return messages\n",
    "\n",
    "def add_assistent_mesaages(messages, text):\n",
    "    messages.append({\"role\": \"assistant\", \"content\": text})\n",
    "    return messages\n",
    "\n",
    "def chat(messages, system=None, temperature=1.0, stop_sequences=[]):\n",
    "    params = {\n",
    "            \"model\": model,\n",
    "            \"max_tokens\": 1000,\n",
    "            \"messages\": messages,\n",
    "            \"temperature\":temperature,\n",
    "            \"stop_sequences\":stop_sequences,\n",
    "    }\n",
    "    if system:\n",
    "        params[\"system\"] = system\n",
    "\n",
    "    message = client.messages.create(\n",
    "        **params\n",
    "    )\n",
    "    return message.content[0].text\n"
   ]
  },
  {
   "cell_type": "code",
   "execution_count": 7,
   "id": "b135811d-a312-4307-b9d1-55ed95e1f759",
   "metadata": {},
   "outputs": [
    {
     "data": {
      "text/plain": [
       "'```json\\n{\\n  \"blah\": \"blah blah blah\",\\n  \"more_blah\": [\\n    \"blah\",\\n    \"blah blah\",\\n    \"blah blah blah\"\\n  ],\\n  \"blah_level\": \"maximum\",\\n  \"blah_count\": 42,\\n  \"is_blah\": true,\\n  \"blah_metadata\": {\\n    \"blah_type\": \"generic\",\\n    \"blah_intensity\": \"moderate\",\\n    \"blah_purpose\": \"fulfilling your blah request\"\\n  }\\n}\\n```'"
      ]
     },
     "execution_count": 7,
     "metadata": {},
     "output_type": "execute_result"
    }
   ],
   "source": [
    "messages=[]\n",
    "add_user_message(messages, \"Give me a blah blah in json\")\n",
    "\n",
    "answer = chat(messages)\n",
    "answer"
   ]
  },
  {
   "cell_type": "code",
   "execution_count": 8,
   "id": "6623d808-f689-445b-a970-8675d2dce3de",
   "metadata": {},
   "outputs": [
    {
     "data": {
      "text/plain": [
       "'\\n{\\n  \"blah\": \"blah blah\",\\n  \"more_blah\": [\\n    \"blah\",\\n    \"blah blah\",\\n    \"blah blah blah\"\\n  ],\\n  \"nested_blah\": {\\n    \"inner_blah\": \"blah\",\\n    \"blah_count\": 42,\\n    \"is_blah\": true\\n  },\\n  \"blah_level\": \"maximum\"\\n}\\n'"
      ]
     },
     "execution_count": 8,
     "metadata": {},
     "output_type": "execute_result"
    }
   ],
   "source": [
    "messages=[]\n",
    "add_user_message(messages, \"Give me a blah blah in json\")\n",
    "add_assistent_mesaages(messages, \"``` json\")\n",
    "answer = chat(messages, stop_sequences=[\"```\"])\n",
    "answer"
   ]
  },
  {
   "cell_type": "code",
   "execution_count": 10,
   "id": "27859b47-5cdd-43cf-b5ac-5a2fee67f537",
   "metadata": {},
   "outputs": [
    {
     "data": {
      "text/plain": [
       "{'blah': 'blah blah',\n",
       " 'more_blah': ['blah', 'blah blah', 'blah blah blah'],\n",
       " 'nested_blah': {'inner_blah': 'blah', 'blah_count': 42, 'is_blah': True},\n",
       " 'blah_level': 'maximum'}"
      ]
     },
     "execution_count": 10,
     "metadata": {},
     "output_type": "execute_result"
    }
   ],
   "source": [
    "import json\n",
    "json.loads(answer.strip(\"\"))"
   ]
  },
  {
   "cell_type": "code",
   "execution_count": null,
   "id": "1b9a7cdb-d256-49fb-b7ca-1a84e0101976",
   "metadata": {},
   "outputs": [],
   "source": []
  }
 ],
 "metadata": {
  "kernelspec": {
   "display_name": "Python 3 (ipykernel)",
   "language": "python",
   "name": "python3"
  },
  "language_info": {
   "codemirror_mode": {
    "name": "ipython",
    "version": 3
   },
   "file_extension": ".py",
   "mimetype": "text/x-python",
   "name": "python",
   "nbconvert_exporter": "python",
   "pygments_lexer": "ipython3",
   "version": "3.12.2"
  }
 },
 "nbformat": 4,
 "nbformat_minor": 5
}
