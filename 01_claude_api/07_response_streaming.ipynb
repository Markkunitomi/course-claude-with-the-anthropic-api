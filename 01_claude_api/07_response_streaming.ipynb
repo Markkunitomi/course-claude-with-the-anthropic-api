{
 "cells": [
  {
   "cell_type": "code",
   "execution_count": 1,
   "id": "b2f94d58-98c1-4dc8-84ac-d7f79251cc4d",
   "metadata": {},
   "outputs": [],
   "source": [
    "from dotenv import load_dotenv\n",
    "from anthropic import Anthropic\n",
    "\n",
    "load_dotenv()\n",
    "client = Anthropic()\n",
    "model = \"claude-sonnet-4-0\"\n"
   ]
  },
  {
   "cell_type": "code",
   "execution_count": 2,
   "id": "f05ed50d-b270-4491-8812-785256a0e006",
   "metadata": {},
   "outputs": [],
   "source": [
    "def add_user_message(messages, text):\n",
    "    messages.append({\"role\": \"user\", \"content\": text})\n",
    "    return messages\n",
    "\n",
    "def add_assistent_mesaages(messages, text):\n",
    "    messages.append({\"role\": \"assistant\", \"content\": text})\n",
    "    return messages\n",
    "\n",
    "def chat(messages, system=None, temperature=1.0):\n",
    "    params = {\n",
    "            \"model\": model,\n",
    "            \"max_tokens\": 1000,\n",
    "            \"messages\": messages,\n",
    "            \"temperature\":temperature,\n",
    "    }\n",
    "    if system:\n",
    "        params[\"system\"] = system\n",
    "\n",
    "    message = client.messages.create(\n",
    "        **params\n",
    "    )\n",
    "    return message.content[0].text\n"
   ]
  },
  {
   "cell_type": "code",
   "execution_count": 4,
   "id": "1b30cf0c-b3f2-4eb4-a299-22e540dae6a3",
   "metadata": {},
   "outputs": [
    {
     "data": {
      "text/plain": [
       "'A database is an organized collection of structured information or data that is stored electronically and can be easily accessed, managed, and updated.'"
      ]
     },
     "execution_count": 4,
     "metadata": {},
     "output_type": "execute_result"
    }
   ],
   "source": [
    "messages=[]\n",
    "add_user_message(messages, \"Write a one sentence description of a database\")\n",
    "answer = chat(messages)\n",
    "answer"
   ]
  },
  {
   "cell_type": "code",
   "execution_count": 8,
   "id": "4bd258cc-8f1f-40df-9673-c52a8bb004ec",
   "metadata": {},
   "outputs": [
    {
     "name": "stdout",
     "output_type": "stream",
     "text": [
      "RawMessageStartEvent(message=Message(id='msg_01GNfvpe3QyW9P7PcuLzNcxU', content=[], model='claude-sonnet-4-20250514', role='assistant', stop_reason=None, stop_sequence=None, type='message', usage=Usage(cache_creation_input_tokens=0, cache_read_input_tokens=0, input_tokens=15, output_tokens=4, server_tool_use=None, service_tier='standard')), type='message_start')\n",
      "RawContentBlockStartEvent(content_block=TextBlock(citations=None, text='', type='text'), index=0, type='content_block_start')\n",
      "RawContentBlockDeltaEvent(delta=TextDelta(text='A database is an', type='text_delta'), index=0, type='content_block_delta')\n",
      "RawContentBlockDeltaEvent(delta=TextDelta(text=' organized collection of structured information or data that is stored electron', type='text_delta'), index=0, type='content_block_delta')\n",
      "RawContentBlockDeltaEvent(delta=TextDelta(text='ically and can be easily accessed, managed, and updated through', type='text_delta'), index=0, type='content_block_delta')\n",
      "RawContentBlockDeltaEvent(delta=TextDelta(text=' a database management system.', type='text_delta'), index=0, type='content_block_delta')\n",
      "RawContentBlockStopEvent(index=0, type='content_block_stop')\n",
      "RawMessageDeltaEvent(delta=Delta(stop_reason='end_turn', stop_sequence=None), type='message_delta', usage=MessageDeltaUsage(cache_creation_input_tokens=None, cache_read_input_tokens=None, input_tokens=None, output_tokens=35, server_tool_use=None))\n",
      "RawMessageStopEvent(type='message_stop')\n"
     ]
    }
   ],
   "source": [
    "messages=[]\n",
    "add_user_message(messages, \"Write a one sentence description of a database\")\n",
    "\n",
    "stream = client.messages.create(\n",
    "                        model=model,\n",
    "                        max_tokens=1000,\n",
    "                        stream=True,\n",
    "                        messages=messages,\n",
    ")\n",
    "for event in stream:\n",
    "    print(event)"
   ]
  },
  {
   "cell_type": "code",
   "execution_count": 11,
   "id": "760c57c9-6e1d-4c60-aab6-d4ea7dee73c8",
   "metadata": {},
   "outputs": [
    {
     "name": "stdout",
     "output_type": "stream",
     "text": [
      "A database is an\n",
      " organized collection of structured information or\n",
      " data that is stored electronically an\n",
      "d can be easily accessed, managed, and updated.\n"
     ]
    }
   ],
   "source": [
    "messages=[]\n",
    "add_user_message(messages, \"Write a one sentence description of a database.\")\n",
    "\n",
    "with client.messages.stream(\n",
    "    model=model,\n",
    "    max_tokens=1000,\n",
    "    messages=messages,\n",
    ") as stream:\n",
    "    for text in stream.text_stream:\n",
    "        print(text)"
   ]
  },
  {
   "cell_type": "code",
   "execution_count": 12,
   "id": "c7fb591a-c142-4a71-960d-88329174b5c8",
   "metadata": {},
   "outputs": [
    {
     "name": "stdout",
     "output_type": "stream",
     "text": [
      "A database is an organized collection of structured information or data that is stored electronically and can be easily accessed, managed, and updated."
     ]
    }
   ],
   "source": [
    "messages=[]\n",
    "add_user_message(messages, \"Write a one sentence description of a database.\")\n",
    "\n",
    "with client.messages.stream(\n",
    "    model=model,\n",
    "    max_tokens=1000,\n",
    "    messages=messages,\n",
    ") as stream:\n",
    "    for text in stream.text_stream:\n",
    "        print(text, end=\"\")"
   ]
  },
  {
   "cell_type": "code",
   "execution_count": 13,
   "id": "9e303027-f613-400f-ba42-8d70bb0274e6",
   "metadata": {},
   "outputs": [
    {
     "data": {
      "text/plain": [
       "Message(id='msg_01Qx5tfwLxgWBGWe7kqxEcT5', content=[TextBlock(citations=None, text='A database is an organized collection of structured information or data that is stored electronically and can be easily accessed, managed, and updated.', type='text')], model='claude-sonnet-4-20250514', role='assistant', stop_reason='end_turn', stop_sequence=None, type='message', usage=Usage(cache_creation_input_tokens=0, cache_read_input_tokens=0, input_tokens=16, output_tokens=30, server_tool_use=None, service_tier='standard'))"
      ]
     },
     "execution_count": 13,
     "metadata": {},
     "output_type": "execute_result"
    }
   ],
   "source": [
    "messages=[]\n",
    "add_user_message(messages, \"Write a one sentence description of a database.\")\n",
    "\n",
    "with client.messages.stream(\n",
    "    model=model,\n",
    "    max_tokens=1000,\n",
    "    messages=messages,\n",
    ") as stream:\n",
    "    for text in stream.text_stream:\n",
    "        pass\n",
    "\n",
    "final_message = stream.get_final_message()\n",
    "final_message"
   ]
  },
  {
   "cell_type": "code",
   "execution_count": null,
   "id": "5786487d-1761-4462-aee0-df3f217c1431",
   "metadata": {},
   "outputs": [],
   "source": []
  }
 ],
 "metadata": {
  "kernelspec": {
   "display_name": "Python 3 (ipykernel)",
   "language": "python",
   "name": "python3"
  },
  "language_info": {
   "codemirror_mode": {
    "name": "ipython",
    "version": 3
   },
   "file_extension": ".py",
   "mimetype": "text/x-python",
   "name": "python",
   "nbconvert_exporter": "python",
   "pygments_lexer": "ipython3",
   "version": "3.12.2"
  }
 },
 "nbformat": 4,
 "nbformat_minor": 5
}
