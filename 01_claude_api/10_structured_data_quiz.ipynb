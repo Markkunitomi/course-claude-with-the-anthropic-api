{
 "cells": [
  {
   "cell_type": "code",
   "execution_count": 4,
   "id": "8798aa86-2101-4bc9-8f45-40a908204807",
   "metadata": {},
   "outputs": [],
   "source": [
    "from dotenv import load_dotenv\n",
    "from anthropic import Anthropic\n",
    "\n",
    "load_dotenv()\n",
    "client = Anthropic()\n",
    "model = \"claude-sonnet-4-0\""
   ]
  },
  {
   "cell_type": "code",
   "execution_count": 21,
   "id": "b4cb83dc-8c91-4577-9eff-38a59e86f974",
   "metadata": {},
   "outputs": [],
   "source": [
    "def add_user_message(messages, text):\n",
    "    messages.append({\"role\": \"user\", \"content\": text})\n",
    "    return messages\n",
    "\n",
    "def add_assistent_messages(messages, text):\n",
    "    messages.append({\"role\": \"assistant\", \"content\": text})\n",
    "    return messages\n",
    "\n",
    "def chat(messages, system=None, temperature=1.0, stop_sequences=[]):\n",
    "    params = {\n",
    "            \"model\": model,\n",
    "            \"max_tokens\": 1000,\n",
    "            \"messages\": messages,\n",
    "            \"temperature\":temperature,\n",
    "            \"stop_sequences\":stop_sequences,\n",
    "    }\n",
    "    if system:\n",
    "        params[\"system\"] = system\n",
    "\n",
    "    message = client.messages.create(\n",
    "        **params\n",
    "    )\n",
    "    return message.content[0].text\n"
   ]
  },
  {
   "cell_type": "code",
   "execution_count": 22,
   "id": "2f82312c-f95c-4ad1-95e1-31fa3c7d9ce4",
   "metadata": {},
   "outputs": [
    {
     "data": {
      "text/plain": [
       "'Here are three short AWS CLI commands:\\n\\n1. **List S3 buckets:**\\n   ```bash\\n   aws s3 ls\\n   ```\\n\\n2. **Get caller identity:**\\n   ```bash\\n   aws sts get-caller-identity\\n   ```\\n\\n3. **List EC2 instances:**\\n   ```bash\\n   aws ec2 describe-instances\\n   ```'"
      ]
     },
     "execution_count": 22,
     "metadata": {},
     "output_type": "execute_result"
    }
   ],
   "source": [
    "messages=[]\n",
    "\n",
    "prompt = \"\"\"\n",
    "            Generate three different AWS CLI commands. Each should be very short.\n",
    "            \"\"\"\n",
    "add_user_message(messages, prompt)\n",
    "\n",
    "answer = chat(messages)\n",
    "\n",
    "answer.strip()"
   ]
  },
  {
   "cell_type": "code",
   "execution_count": 23,
   "id": "237aa9ed-f12b-4973-bb7b-babd95a0d8be",
   "metadata": {},
   "outputs": [
    {
     "data": {
      "text/markdown": [
       "Here are three short AWS CLI commands:\n",
       "\n",
       "1. **List S3 buckets:**\n",
       "   ```bash\n",
       "   aws s3 ls\n",
       "   ```\n",
       "\n",
       "2. **Get caller identity:**\n",
       "   ```bash\n",
       "   aws sts get-caller-identity\n",
       "   ```\n",
       "\n",
       "3. **List EC2 instances:**\n",
       "   ```bash\n",
       "   aws ec2 describe-instances\n",
       "   ```"
      ],
      "text/plain": [
       "<IPython.core.display.Markdown object>"
      ]
     },
     "execution_count": 23,
     "metadata": {},
     "output_type": "execute_result"
    }
   ],
   "source": [
    "from IPython.display import Markdown\n",
    "\n",
    "Markdown(answer)"
   ]
  },
  {
   "cell_type": "code",
   "execution_count": 24,
   "id": "92a2018b-b965-4a08-873e-9f1f0db70ed3",
   "metadata": {},
   "outputs": [
    {
     "data": {
      "text/markdown": [
       "\n",
       "\n",
       "```bash\n",
       "aws s3 ls\n",
       "```\n",
       "\n",
       "```bash\n",
       "aws ec2 describe-instances\n",
       "```\n",
       "\n",
       "```bash\n",
       "aws iam list-users\n",
       "```"
      ],
      "text/plain": [
       "<IPython.core.display.Markdown object>"
      ]
     },
     "execution_count": 24,
     "metadata": {},
     "output_type": "execute_result"
    }
   ],
   "source": [
    "messages=[]\n",
    "\n",
    "prompt = \"\"\"\n",
    "            Generate three different AWS CLI commands. Each should be very short.\n",
    "            \"\"\"\n",
    "add_user_message(messages, prompt)\n",
    "add_assistent_messages(messages, \"without description Here are three short AWS CLI commands :\")\n",
    "answer = chat(messages)\n",
    "\n",
    "Markdown(answer)"
   ]
  },
  {
   "cell_type": "code",
   "execution_count": 29,
   "id": "0a990369-4ae8-4a50-b56b-b3e7946024eb",
   "metadata": {},
   "outputs": [
    {
     "data": {
      "text/markdown": [
       "\n",
       "aws s3 ls\n"
      ],
      "text/plain": [
       "<IPython.core.display.Markdown object>"
      ]
     },
     "execution_count": 29,
     "metadata": {},
     "output_type": "execute_result"
    }
   ],
   "source": [
    "messages=[]\n",
    "\n",
    "prompt = \"\"\"\n",
    "            Generate three different AWS CLI commands. Each should be very short.\n",
    "            \"\"\"\n",
    "assistent = \"```bash\"\n",
    "add_user_message(messages, prompt)\n",
    "add_assistent_messages(messages, assistent)\n",
    "answer = chat(messages, stop_sequences=[\"```\"])\n",
    "\n",
    "Markdown(answer)"
   ]
  },
  {
   "cell_type": "code",
   "execution_count": null,
   "id": "e306d216-b79c-4d66-ba39-d389f459df50",
   "metadata": {},
   "outputs": [],
   "source": []
  }
 ],
 "metadata": {
  "kernelspec": {
   "display_name": "Python 3 (ipykernel)",
   "language": "python",
   "name": "python3"
  },
  "language_info": {
   "codemirror_mode": {
    "name": "ipython",
    "version": 3
   },
   "file_extension": ".py",
   "mimetype": "text/x-python",
   "name": "python",
   "nbconvert_exporter": "python",
   "pygments_lexer": "ipython3",
   "version": "3.12.2"
  }
 },
 "nbformat": 4,
 "nbformat_minor": 5
}
