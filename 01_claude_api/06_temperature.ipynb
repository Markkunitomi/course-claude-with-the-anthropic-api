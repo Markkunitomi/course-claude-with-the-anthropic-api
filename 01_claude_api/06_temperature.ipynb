{
 "cells": [
  {
   "cell_type": "code",
   "execution_count": 1,
   "id": "a8b9ebc1-96ef-40f4-85f4-db3494e5bff2",
   "metadata": {},
   "outputs": [],
   "source": [
    "from dotenv import load_dotenv\n",
    "from anthropic import Anthropic\n",
    "\n",
    "load_dotenv()\n",
    "client = Anthropic()\n",
    "model = \"claude-sonnet-4-0\""
   ]
  },
  {
   "cell_type": "code",
   "execution_count": 3,
   "id": "86a3038f-ce4e-413c-ae06-2c25c40cb59a",
   "metadata": {},
   "outputs": [],
   "source": [
    "def add_user_message(messages, text):\n",
    "    messages.append({\"role\": \"user\", \"content\": text})\n",
    "    return messages\n",
    "\n",
    "def add_assistent_mesaages(messages, text):\n",
    "    messages.append({\"role\": \"assistant\", \"content\": text})\n",
    "    return messages\n",
    "\n",
    "def chat(messages, system=None, temperature=1.0):\n",
    "    params = {\n",
    "            \"model\": model,\n",
    "            \"max_tokens\": 1000,\n",
    "            \"messages\": messages,\n",
    "            \"temperature\":temperature,\n",
    "    }\n",
    "    if system:\n",
    "        params[\"system\"] = system\n",
    "\n",
    "    message = client.messages.create(\n",
    "        **params\n",
    "    )\n",
    "    return message.content[0].text\n"
   ]
  },
  {
   "cell_type": "code",
   "execution_count": 10,
   "id": "259c0859-3ccd-45c6-854a-4b66190cd8c6",
   "metadata": {},
   "outputs": [
    {
     "data": {
      "text/plain": [
       "'A time-traveling librarian discovers that someone is systematically erasing pivotal moments from history by stealing the original books that first recorded them.'"
      ]
     },
     "execution_count": 10,
     "metadata": {},
     "output_type": "execute_result"
    }
   ],
   "source": [
    "messages=[]\n",
    "add_user_message(messages, \"Generate a one sentence movie idea\")\n",
    "answer = chat(messages, temperature = 0.0)\n",
    "answer"
   ]
  },
  {
   "cell_type": "code",
   "execution_count": 11,
   "id": "f799818a-274a-4690-8c1c-8edf14a24978",
   "metadata": {},
   "outputs": [
    {
     "data": {
      "text/plain": [
       "'A time-traveling librarian discovers that someone is systematically erasing pivotal moments from history by stealing the original books that first recorded them.'"
      ]
     },
     "execution_count": 11,
     "metadata": {},
     "output_type": "execute_result"
    }
   ],
   "source": [
    "messages=[]\n",
    "add_user_message(messages, \"Generate a one sentence movie idea\")\n",
    "answer = chat(messages, temperature = 0.0)\n",
    "answer"
   ]
  },
  {
   "cell_type": "code",
   "execution_count": 12,
   "id": "741f79d6-339d-4931-ab64-e8f5b53b20fd",
   "metadata": {},
   "outputs": [
    {
     "data": {
      "text/plain": [
       "'A time-traveling librarian discovers that someone is systematically erasing pivotal moments from history by stealing the original books that first recorded them.'"
      ]
     },
     "execution_count": 12,
     "metadata": {},
     "output_type": "execute_result"
    }
   ],
   "source": [
    "messages=[]\n",
    "add_user_message(messages, \"Generate a one sentence movie idea\")\n",
    "answer = chat(messages, temperature = 0.0)\n",
    "answer"
   ]
  },
  {
   "cell_type": "code",
   "execution_count": 13,
   "id": "c69444f5-1f27-455f-8550-065dba084ab5",
   "metadata": {},
   "outputs": [
    {
     "data": {
      "text/plain": [
       "'A retiring librarian discovers that every book returned late comes back with mysterious handwritten notes in the margins that predict future events with terrifying accuracy.'"
      ]
     },
     "execution_count": 13,
     "metadata": {},
     "output_type": "execute_result"
    }
   ],
   "source": [
    "messages=[]\n",
    "add_user_message(messages, \"Generate a one sentence movie idea\")\n",
    "answer = chat(messages, temperature = 1.0)\n",
    "answer"
   ]
  },
  {
   "cell_type": "code",
   "execution_count": 14,
   "id": "8a80e52d-3f34-457a-a8ef-98c48019710c",
   "metadata": {},
   "outputs": [
    {
     "data": {
      "text/plain": [
       "'A retired librarian discovers that every book returned late to her library traps its reader in a time loop until she can solve the mystery of why the building was constructed over an ancient temporal anomaly.'"
      ]
     },
     "execution_count": 14,
     "metadata": {},
     "output_type": "execute_result"
    }
   ],
   "source": [
    "messages=[]\n",
    "add_user_message(messages, \"Generate a one sentence movie idea\")\n",
    "answer = chat(messages, temperature = 1.0)\n",
    "answer"
   ]
  },
  {
   "cell_type": "code",
   "execution_count": 15,
   "id": "e5b090af-6dea-4714-a762-252e77f26dc4",
   "metadata": {},
   "outputs": [
    {
     "data": {
      "text/plain": [
       "\"A time-traveling janitor discovers that every mess he cleans in the present prevents a catastrophic event in the future, but he's running out of time to clean up humanity's biggest disaster.\""
      ]
     },
     "execution_count": 15,
     "metadata": {},
     "output_type": "execute_result"
    }
   ],
   "source": [
    "messages=[]\n",
    "add_user_message(messages, \"Generate a one sentence movie idea\")\n",
    "answer = chat(messages, temperature = 1.0)\n",
    "answer"
   ]
  },
  {
   "cell_type": "code",
   "execution_count": null,
   "id": "67be695f-132f-45e5-ba93-bbb5d6bbe800",
   "metadata": {},
   "outputs": [],
   "source": []
  }
 ],
 "metadata": {
  "kernelspec": {
   "display_name": "Python 3 (ipykernel)",
   "language": "python",
   "name": "python3"
  },
  "language_info": {
   "codemirror_mode": {
    "name": "ipython",
    "version": 3
   },
   "file_extension": ".py",
   "mimetype": "text/x-python",
   "name": "python",
   "nbconvert_exporter": "python",
   "pygments_lexer": "ipython3",
   "version": "3.12.2"
  }
 },
 "nbformat": 4,
 "nbformat_minor": 5
}
