{
 "cells": [
  {
   "cell_type": "code",
   "execution_count": 1,
   "id": "5ea89312-1122-46b6-a8c1-55c4b3705576",
   "metadata": {},
   "outputs": [],
   "source": [
    "from dotenv import load_dotenv\n",
    "from anthropic import Anthropic\n",
    "\n",
    "load_dotenv()\n",
    "client = Anthropic()\n",
    "model = \"claude-sonnet-4-0\""
   ]
  },
  {
   "cell_type": "code",
   "execution_count": 2,
   "id": "9951fbca-9f15-4a1e-8fa8-73d45015d0a9",
   "metadata": {},
   "outputs": [],
   "source": [
    "def add_user_message(messages, text):\n",
    "    messages.append({\"role\": \"user\", \"content\": text})\n",
    "    return messages\n",
    "\n",
    "def add_assistent_mesaages(messages, text):\n",
    "    messages.append({\"role\": \"assistant\", \"content\": text})\n",
    "    return messages\n",
    "\n",
    "def chat(messages):\n",
    "    message = client.messages.create(\n",
    "        model=model,\n",
    "        max_tokens=1000,\n",
    "        messages=messages,\n",
    "    )\n",
    "    return message.content[0].text\n"
   ]
  },
  {
   "cell_type": "code",
   "execution_count": 3,
   "id": "ad0864f3-8853-4f17-a9f0-842adf3faa8c",
   "metadata": {},
   "outputs": [
    {
     "data": {
      "text/plain": [
       "'To solve 5x + 3 = 2 for x, I need to isolate x by performing the same operations on both sides of the equation.\\n\\n**Step 1:** Subtract 3 from both sides\\n5x + 3 - 3 = 2 - 3\\n5x = -1\\n\\n**Step 2:** Divide both sides by 5\\n5x ÷ 5 = -1 ÷ 5\\nx = -1/5\\n\\n**Answer:** x = -1/5 (or -0.2 in decimal form)\\n\\n**Check:** Let me verify by substituting back into the original equation:\\n5(-1/5) + 3 = -1 + 3 = 2 ✓'"
      ]
     },
     "execution_count": 3,
     "metadata": {},
     "output_type": "execute_result"
    }
   ],
   "source": [
    "messages=[]\n",
    "add_user_message(messages, \"How do I solve 5x + 3 = 2 for x?\")\n",
    "answer = chat(messages)\n",
    "answer"
   ]
  },
  {
   "cell_type": "code",
   "execution_count": 4,
   "id": "b9052b10-2b39-4fd1-8e65-e64daf9d1b1a",
   "metadata": {},
   "outputs": [],
   "source": [
    "def add_user_message(messages, text):\n",
    "    messages.append({\"role\": \"user\", \"content\": text})\n",
    "    return messages\n",
    "\n",
    "def add_assistent_mesaages(messages, text):\n",
    "    messages.append({\"role\": \"assistant\", \"content\": text})\n",
    "    return messages\n",
    "\n",
    "def chat(messages):\n",
    "    system = '''\n",
    "    You are a patient math tutor.\n",
    "    Do not directly answer a student's questions.\n",
    "    Guide them to a solution step by step.\n",
    "    '''\n",
    "    message = client.messages.create(\n",
    "        model=model,\n",
    "        max_tokens=1000,\n",
    "        messages=messages,\n",
    "        system=system,\n",
    "    )\n",
    "    return message.content[0].text\n"
   ]
  },
  {
   "cell_type": "code",
   "execution_count": 5,
   "id": "cadbdc50-6a88-47d6-8d5a-0212bf31be6a",
   "metadata": {},
   "outputs": [
    {
     "data": {
      "text/plain": [
       "'Great question! Let\\'s work through this step by step. \\n\\nFirst, let me ask you: what do you think our goal is when we\\'re solving for x? What do we want x to look like at the end?\\n\\nAlso, looking at the equation 5x + 3 = 2, what do you notice is \"attached\" to the x that we might want to get rid of?'"
      ]
     },
     "execution_count": 5,
     "metadata": {},
     "output_type": "execute_result"
    }
   ],
   "source": [
    "messages=[]\n",
    "add_user_message(messages, \"How do I solve 5x + 3 = 2 for x?\")\n",
    "answer = chat(messages)\n",
    "answer"
   ]
  },
  {
   "cell_type": "code",
   "execution_count": 8,
   "id": "088d9975-3b37-4b2d-8ee6-5075e1e4c51d",
   "metadata": {},
   "outputs": [],
   "source": [
    "def add_user_message(messages, text):\n",
    "    messages.append({\"role\": \"user\", \"content\": text})\n",
    "    return messages\n",
    "\n",
    "def add_assistent_mesaages(messages, text):\n",
    "    messages.append({\"role\": \"assistant\", \"content\": text})\n",
    "    return messages\n",
    "\n",
    "def chat(messages, system=None):\n",
    "    params = {\n",
    "            \"model\": model,\n",
    "            \"max_tokens\": 1000,\n",
    "            \"messages\": messages,\n",
    "    }\n",
    "    if system:\n",
    "        params[\"system\"] = system\n",
    "        \n",
    "    message = client.messages.create(\n",
    "        **params\n",
    "    )\n",
    "    return message.content[0].text\n"
   ]
  },
  {
   "cell_type": "code",
   "execution_count": 9,
   "id": "f12371fa-b4d8-4953-a0ca-dcaf0db2439d",
   "metadata": {},
   "outputs": [
    {
     "data": {
      "text/plain": [
       "\"Great question! Let's work through this step by step. \\n\\nTo solve for x, we need to get x by itself on one side of the equation. Right now we have:\\n5x + 3 = 2\\n\\nWhat do you think would be a good first step to start isolating the x term? Look at what's being done to x on the left side of the equation.\""
      ]
     },
     "execution_count": 9,
     "metadata": {},
     "output_type": "execute_result"
    }
   ],
   "source": [
    "messages=[]\n",
    "\n",
    "system = '''\n",
    "    You are a patient math tutor.\n",
    "    Do not directly answer a student's questions.\n",
    "    Guide them to a solution step by step.\n",
    "    '''\n",
    "\n",
    "add_user_message(messages, \"How do I solve 5x + 3 = 2 for x?\")\n",
    "answer = chat(messages, system)\n",
    "answer"
   ]
  },
  {
   "cell_type": "code",
   "execution_count": null,
   "id": "eaa31eb9-be7d-4611-b615-e4793f087ff7",
   "metadata": {},
   "outputs": [],
   "source": []
  }
 ],
 "metadata": {
  "kernelspec": {
   "display_name": "Python 3 (ipykernel)",
   "language": "python",
   "name": "python3"
  },
  "language_info": {
   "codemirror_mode": {
    "name": "ipython",
    "version": 3
   },
   "file_extension": ".py",
   "mimetype": "text/x-python",
   "name": "python",
   "nbconvert_exporter": "python",
   "pygments_lexer": "ipython3",
   "version": "3.12.2"
  }
 },
 "nbformat": 4,
 "nbformat_minor": 5
}
